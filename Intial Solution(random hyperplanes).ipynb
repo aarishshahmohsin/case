{
 "cells": [
  {
   "cell_type": "markdown",
   "id": "1772e81d-a3da-42b3-b830-afa0f72a49c9",
   "metadata": {},
   "source": [
    "# CPLEX"
   ]
  },
  {
   "cell_type": "code",
   "execution_count": 4,
   "id": "2b736782-cf51-446c-a4ff-f569d8739a41",
   "metadata": {},
   "outputs": [],
   "source": [
    "import cplex\n",
    "import numpy as np\n",
    "from synthetic_datasets import ClusterDataset\n",
    "import pandas as pd"
   ]
  },
  {
   "cell_type": "code",
   "execution_count": 15,
   "id": "b389ffe7-d851-4c92-82cf-5ca54a043ad6",
   "metadata": {},
   "outputs": [],
   "source": [
    "seeds = [\n",
    "    85287339, # 412\n",
    "    20200621154912, # 378\n",
    "    20200623170005 # 433\n",
    "]"
   ]
  },
  {
   "cell_type": "code",
   "execution_count": 16,
   "id": "61579739-b2fb-4113-9f9c-c8b84c2999c2",
   "metadata": {},
   "outputs": [],
   "source": [
    "np.random.seed(seeds[0])"
   ]
  },
  {
   "cell_type": "code",
   "execution_count": 17,
   "id": "49a62953-2a8d-4910-a127-dda261a9821d",
   "metadata": {},
   "outputs": [],
   "source": [
    "def generate_random_unit_vector(dim):\n",
    "    vec = np.random.randn(dim)\n",
    "    return vec / np.linalg.norm(vec)"
   ]
  },
  {
   "cell_type": "code",
   "execution_count": 18,
   "id": "8132a1f1-50ff-4c1d-a076-2e211c6aa4ae",
   "metadata": {},
   "outputs": [],
   "source": [
    "def choose_random_point_in_hypercube(dim):\n",
    "    return np.random.uniform(0, 1, dim)"
   ]
  },
  {
   "cell_type": "code",
   "execution_count": 19,
   "id": "7db53b9c-cff8-4c05-9bb6-2f5547dc9433",
   "metadata": {},
   "outputs": [],
   "source": [
    "def separating_hyperplane(P, N, eps_P, eps_N, eps_R, theta, lamb, num_trials=100):\n",
    "    \"\"\"\n",
    "    Finds the initial separating hyperplane using the provided algorithm.\n",
    "    \n",
    "    Args:\n",
    "        P (list): Set of positive samples (numpy arrays).\n",
    "        N (list): Set of negative samples (numpy arrays).\n",
    "        eps_P (float): Parameter for positive samples.\n",
    "        eps_N (float): Parameter for negative samples.\n",
    "        eps_R (float): Regularization parameter.\n",
    "        theta (float): Scaling parameter.\n",
    "        num_trials (int): Number of random trials.\n",
    "        \n",
    "    Returns:\n",
    "        tuple: Optimal hyperplane (w, c).\n",
    "    \"\"\"\n",
    "    dim = len(P[0])  # Dimension of the feature space\n",
    "    L = -float('inf')\n",
    "    best_h = None\n",
    "\n",
    "    for _ in range(num_trials):\n",
    "        # Choose a random unit vector w\n",
    "        w = generate_random_unit_vector(dim)\n",
    "        # Choose a random point c in the unit hypercube\n",
    "        c = choose_random_point_in_hypercube(dim)\n",
    "        c = -np.dot(c, w)\n",
    "\n",
    "        # Compute x_tilde and y_tilde arrays\n",
    "        x_tilde = np.array([0 if np.dot(w, s) < eps_P else 1 for s in P])\n",
    "        y_tilde = np.array([1 if np.dot(w, s) > -eps_N else 0 for s in N])\n",
    "\n",
    "        # Compute V_tilde\n",
    "        V_tilde = max(0, (theta - 1) * np.sum(x_tilde) +\n",
    "                      theta * np.sum(y_tilde) + theta * eps_R)\n",
    "\n",
    "        # Compute L_tilde\n",
    "        L_tilde = np.sum(x_tilde) - V_tilde * lamb\n",
    "\n",
    "        # Update L and h\n",
    "        if L_tilde > L:\n",
    "            L = L_tilde\n",
    "            best_h = (w, c)\n",
    "\n",
    "    return best_h"
   ]
  },
  {
   "cell_type": "code",
   "execution_count": 20,
   "id": "40c0e5a7-be56-44bc-8aa8-3b2271c05092",
   "metadata": {},
   "outputs": [],
   "source": [
    "# P = np.array([[1, 1], [1, 0], [0, 1]])  \n",
    "# N = np.array([[0, 0]])  \n",
    "theta0 = 99\n",
    "theta1 = 100\n",
    "theta = theta0 / theta1\n",
    "eps_R = 3e-3\n",
    "eps_P = 1e-3\n",
    "eps_N = 2e-3\n",
    "n = 10000\n",
    "lamb = 100 * (n + 1)"
   ]
  },
  {
   "cell_type": "markdown",
   "id": "54f60fc7-a39c-4b90-a920-181c299f15fb",
   "metadata": {},
   "source": [
    "# Breast Cancer"
   ]
  },
  {
   "cell_type": "code",
   "execution_count": 14,
   "id": "bdc83547-9820-41a6-a722-ce61ecbe994f",
   "metadata": {},
   "outputs": [],
   "source": [
    "from sklearn.datasets import load_breast_cancer"
   ]
  },
  {
   "cell_type": "code",
   "execution_count": 15,
   "id": "87205132-a6b8-4651-bce0-07570d07fe09",
   "metadata": {},
   "outputs": [],
   "source": [
    "d = load_breast_cancer()"
   ]
  },
  {
   "cell_type": "code",
   "execution_count": 16,
   "id": "ad6c3e33-0f6a-48c1-beb6-7ea6c65221c2",
   "metadata": {},
   "outputs": [],
   "source": [
    "X,y = d['data'], d['target']"
   ]
  },
  {
   "cell_type": "code",
   "execution_count": 18,
   "id": "685cf412-f359-4bcf-878d-d75a6d17129c",
   "metadata": {},
   "outputs": [],
   "source": [
    "P = np.array([x for idx, x in enumerate(X) if y[idx] == 1])\n",
    "N = np.array([x for idx, x in enumerate(X) if y[idx] == 0])"
   ]
  },
  {
   "cell_type": "code",
   "execution_count": 28,
   "id": "a31e0aaf-d16e-404e-9454-4aa057b9a0b5",
   "metadata": {},
   "outputs": [],
   "source": [
    "x_tilde = np.array([0 if np.dot(w, s) < eps_P else 1 for s in P])\n"
   ]
  },
  {
   "cell_type": "code",
   "execution_count": 29,
   "id": "c5510df7-1582-434b-b689-0f5ffaf4d6d7",
   "metadata": {},
   "outputs": [
    {
     "data": {
      "text/plain": [
       "223"
      ]
     },
     "execution_count": 29,
     "metadata": {},
     "output_type": "execute_result"
    }
   ],
   "source": [
    "np.sum(x_tilde)"
   ]
  },
  {
   "cell_type": "markdown",
   "id": "1ea2fcde-dc3f-4d68-b4d3-010c7395c1ab",
   "metadata": {},
   "source": [
    "# Wine Quality Red"
   ]
  },
  {
   "cell_type": "code",
   "execution_count": 37,
   "id": "9acc84b8-7e17-4e48-a715-00b86f70fcf2",
   "metadata": {},
   "outputs": [],
   "source": [
    "wq_red_df = pd.read_csv('./data/wine-quality/winequality-red.csv', delimiter=';')"
   ]
  },
  {
   "cell_type": "code",
   "execution_count": 38,
   "id": "cc1f291a-f5e3-4611-91db-6cba984b8a06",
   "metadata": {},
   "outputs": [
    {
     "data": {
      "text/html": [
       "<div>\n",
       "<style scoped>\n",
       "    .dataframe tbody tr th:only-of-type {\n",
       "        vertical-align: middle;\n",
       "    }\n",
       "\n",
       "    .dataframe tbody tr th {\n",
       "        vertical-align: top;\n",
       "    }\n",
       "\n",
       "    .dataframe thead th {\n",
       "        text-align: right;\n",
       "    }\n",
       "</style>\n",
       "<table border=\"1\" class=\"dataframe\">\n",
       "  <thead>\n",
       "    <tr style=\"text-align: right;\">\n",
       "      <th></th>\n",
       "      <th>fixed acidity</th>\n",
       "      <th>volatile acidity</th>\n",
       "      <th>citric acid</th>\n",
       "      <th>residual sugar</th>\n",
       "      <th>chlorides</th>\n",
       "      <th>free sulfur dioxide</th>\n",
       "      <th>total sulfur dioxide</th>\n",
       "      <th>density</th>\n",
       "      <th>pH</th>\n",
       "      <th>sulphates</th>\n",
       "      <th>alcohol</th>\n",
       "      <th>quality</th>\n",
       "    </tr>\n",
       "  </thead>\n",
       "  <tbody>\n",
       "    <tr>\n",
       "      <th>0</th>\n",
       "      <td>7.4</td>\n",
       "      <td>0.70</td>\n",
       "      <td>0.00</td>\n",
       "      <td>1.9</td>\n",
       "      <td>0.076</td>\n",
       "      <td>11.0</td>\n",
       "      <td>34.0</td>\n",
       "      <td>0.9978</td>\n",
       "      <td>3.51</td>\n",
       "      <td>0.56</td>\n",
       "      <td>9.4</td>\n",
       "      <td>5</td>\n",
       "    </tr>\n",
       "    <tr>\n",
       "      <th>1</th>\n",
       "      <td>7.8</td>\n",
       "      <td>0.88</td>\n",
       "      <td>0.00</td>\n",
       "      <td>2.6</td>\n",
       "      <td>0.098</td>\n",
       "      <td>25.0</td>\n",
       "      <td>67.0</td>\n",
       "      <td>0.9968</td>\n",
       "      <td>3.20</td>\n",
       "      <td>0.68</td>\n",
       "      <td>9.8</td>\n",
       "      <td>5</td>\n",
       "    </tr>\n",
       "    <tr>\n",
       "      <th>2</th>\n",
       "      <td>7.8</td>\n",
       "      <td>0.76</td>\n",
       "      <td>0.04</td>\n",
       "      <td>2.3</td>\n",
       "      <td>0.092</td>\n",
       "      <td>15.0</td>\n",
       "      <td>54.0</td>\n",
       "      <td>0.9970</td>\n",
       "      <td>3.26</td>\n",
       "      <td>0.65</td>\n",
       "      <td>9.8</td>\n",
       "      <td>5</td>\n",
       "    </tr>\n",
       "    <tr>\n",
       "      <th>3</th>\n",
       "      <td>11.2</td>\n",
       "      <td>0.28</td>\n",
       "      <td>0.56</td>\n",
       "      <td>1.9</td>\n",
       "      <td>0.075</td>\n",
       "      <td>17.0</td>\n",
       "      <td>60.0</td>\n",
       "      <td>0.9980</td>\n",
       "      <td>3.16</td>\n",
       "      <td>0.58</td>\n",
       "      <td>9.8</td>\n",
       "      <td>6</td>\n",
       "    </tr>\n",
       "    <tr>\n",
       "      <th>4</th>\n",
       "      <td>7.4</td>\n",
       "      <td>0.70</td>\n",
       "      <td>0.00</td>\n",
       "      <td>1.9</td>\n",
       "      <td>0.076</td>\n",
       "      <td>11.0</td>\n",
       "      <td>34.0</td>\n",
       "      <td>0.9978</td>\n",
       "      <td>3.51</td>\n",
       "      <td>0.56</td>\n",
       "      <td>9.4</td>\n",
       "      <td>5</td>\n",
       "    </tr>\n",
       "  </tbody>\n",
       "</table>\n",
       "</div>"
      ],
      "text/plain": [
       "   fixed acidity  volatile acidity  citric acid  residual sugar  chlorides  \\\n",
       "0            7.4              0.70         0.00             1.9      0.076   \n",
       "1            7.8              0.88         0.00             2.6      0.098   \n",
       "2            7.8              0.76         0.04             2.3      0.092   \n",
       "3           11.2              0.28         0.56             1.9      0.075   \n",
       "4            7.4              0.70         0.00             1.9      0.076   \n",
       "\n",
       "   free sulfur dioxide  total sulfur dioxide  density    pH  sulphates  \\\n",
       "0                 11.0                  34.0   0.9978  3.51       0.56   \n",
       "1                 25.0                  67.0   0.9968  3.20       0.68   \n",
       "2                 15.0                  54.0   0.9970  3.26       0.65   \n",
       "3                 17.0                  60.0   0.9980  3.16       0.58   \n",
       "4                 11.0                  34.0   0.9978  3.51       0.56   \n",
       "\n",
       "   alcohol  quality  \n",
       "0      9.4        5  \n",
       "1      9.8        5  \n",
       "2      9.8        5  \n",
       "3      9.8        6  \n",
       "4      9.4        5  "
      ]
     },
     "execution_count": 38,
     "metadata": {},
     "output_type": "execute_result"
    }
   ],
   "source": [
    "wq_red_df.head()"
   ]
  },
  {
   "cell_type": "code",
   "execution_count": 43,
   "id": "8a77c64e-97d1-431a-b4a2-00a0d5c78e51",
   "metadata": {},
   "outputs": [],
   "source": [
    "X, y = wq_red_df.drop(columns=['quality']).to_numpy() , wq_red_df['quality'].to_numpy()     "
   ]
  },
  {
   "cell_type": "code",
   "execution_count": 45,
   "id": "58280d4e-e866-4e5e-9479-f75ce7d72bef",
   "metadata": {},
   "outputs": [],
   "source": [
    "y = y >= 8"
   ]
  },
  {
   "cell_type": "code",
   "execution_count": 46,
   "id": "d9914d48-fea6-450c-bf89-36496235f2bf",
   "metadata": {},
   "outputs": [],
   "source": [
    "y = y.astype(int)"
   ]
  },
  {
   "cell_type": "code",
   "execution_count": 49,
   "id": "ad8ec80e-7c94-4dad-8bb7-6979a709fe81",
   "metadata": {},
   "outputs": [],
   "source": [
    "theta = 0.04"
   ]
  },
  {
   "cell_type": "code",
   "execution_count": 50,
   "id": "b6ac53a0-3272-4220-8295-9f282e9f0cfe",
   "metadata": {},
   "outputs": [],
   "source": [
    "P = np.array([x for idx, x in enumerate(X) if y[idx] == 1])\n",
    "N = np.array([x for idx, x in enumerate(X) if y[idx] == 0])"
   ]
  },
  {
   "cell_type": "code",
   "execution_count": 51,
   "id": "e83af8bf-be8c-43e5-8b47-fd1d58563679",
   "metadata": {},
   "outputs": [],
   "source": [
    "w, c = separating_hyperplane(P, N, eps_P, eps_N, eps_R, theta, lamb, num_trials=10000)"
   ]
  },
  {
   "cell_type": "code",
   "execution_count": 53,
   "id": "5072569f-7d35-4236-8e45-a84be9105d92",
   "metadata": {},
   "outputs": [],
   "source": [
    "x_tilde = np.array([0 if np.dot(w, s) < eps_P else 1 for s in P])\n"
   ]
  },
  {
   "cell_type": "code",
   "execution_count": 54,
   "id": "a141fc0c-842e-4681-a552-48329cf296b7",
   "metadata": {},
   "outputs": [
    {
     "data": {
      "text/plain": [
       "9"
      ]
     },
     "execution_count": 54,
     "metadata": {},
     "output_type": "execute_result"
    }
   ],
   "source": [
    "np.sum(x_tilde)"
   ]
  },
  {
   "cell_type": "markdown",
   "id": "96803572-94d0-4a94-8328-3b10192557a8",
   "metadata": {},
   "source": [
    "# Wine Quality White"
   ]
  },
  {
   "cell_type": "code",
   "execution_count": 56,
   "id": "a5852342-2fde-4026-b269-4eec2287f318",
   "metadata": {},
   "outputs": [],
   "source": [
    "wq_white_df = pd.read_csv('./data/wine-quality/winequality-white.csv', delimiter=';')"
   ]
  },
  {
   "cell_type": "code",
   "execution_count": 57,
   "id": "f38ec61e-a0a6-4fa1-a35b-73959a291ee6",
   "metadata": {},
   "outputs": [
    {
     "data": {
      "text/html": [
       "<div>\n",
       "<style scoped>\n",
       "    .dataframe tbody tr th:only-of-type {\n",
       "        vertical-align: middle;\n",
       "    }\n",
       "\n",
       "    .dataframe tbody tr th {\n",
       "        vertical-align: top;\n",
       "    }\n",
       "\n",
       "    .dataframe thead th {\n",
       "        text-align: right;\n",
       "    }\n",
       "</style>\n",
       "<table border=\"1\" class=\"dataframe\">\n",
       "  <thead>\n",
       "    <tr style=\"text-align: right;\">\n",
       "      <th></th>\n",
       "      <th>fixed acidity</th>\n",
       "      <th>volatile acidity</th>\n",
       "      <th>citric acid</th>\n",
       "      <th>residual sugar</th>\n",
       "      <th>chlorides</th>\n",
       "      <th>free sulfur dioxide</th>\n",
       "      <th>total sulfur dioxide</th>\n",
       "      <th>density</th>\n",
       "      <th>pH</th>\n",
       "      <th>sulphates</th>\n",
       "      <th>alcohol</th>\n",
       "      <th>quality</th>\n",
       "    </tr>\n",
       "  </thead>\n",
       "  <tbody>\n",
       "    <tr>\n",
       "      <th>0</th>\n",
       "      <td>7.0</td>\n",
       "      <td>0.27</td>\n",
       "      <td>0.36</td>\n",
       "      <td>20.7</td>\n",
       "      <td>0.045</td>\n",
       "      <td>45.0</td>\n",
       "      <td>170.0</td>\n",
       "      <td>1.0010</td>\n",
       "      <td>3.00</td>\n",
       "      <td>0.45</td>\n",
       "      <td>8.8</td>\n",
       "      <td>6</td>\n",
       "    </tr>\n",
       "    <tr>\n",
       "      <th>1</th>\n",
       "      <td>6.3</td>\n",
       "      <td>0.30</td>\n",
       "      <td>0.34</td>\n",
       "      <td>1.6</td>\n",
       "      <td>0.049</td>\n",
       "      <td>14.0</td>\n",
       "      <td>132.0</td>\n",
       "      <td>0.9940</td>\n",
       "      <td>3.30</td>\n",
       "      <td>0.49</td>\n",
       "      <td>9.5</td>\n",
       "      <td>6</td>\n",
       "    </tr>\n",
       "    <tr>\n",
       "      <th>2</th>\n",
       "      <td>8.1</td>\n",
       "      <td>0.28</td>\n",
       "      <td>0.40</td>\n",
       "      <td>6.9</td>\n",
       "      <td>0.050</td>\n",
       "      <td>30.0</td>\n",
       "      <td>97.0</td>\n",
       "      <td>0.9951</td>\n",
       "      <td>3.26</td>\n",
       "      <td>0.44</td>\n",
       "      <td>10.1</td>\n",
       "      <td>6</td>\n",
       "    </tr>\n",
       "    <tr>\n",
       "      <th>3</th>\n",
       "      <td>7.2</td>\n",
       "      <td>0.23</td>\n",
       "      <td>0.32</td>\n",
       "      <td>8.5</td>\n",
       "      <td>0.058</td>\n",
       "      <td>47.0</td>\n",
       "      <td>186.0</td>\n",
       "      <td>0.9956</td>\n",
       "      <td>3.19</td>\n",
       "      <td>0.40</td>\n",
       "      <td>9.9</td>\n",
       "      <td>6</td>\n",
       "    </tr>\n",
       "    <tr>\n",
       "      <th>4</th>\n",
       "      <td>7.2</td>\n",
       "      <td>0.23</td>\n",
       "      <td>0.32</td>\n",
       "      <td>8.5</td>\n",
       "      <td>0.058</td>\n",
       "      <td>47.0</td>\n",
       "      <td>186.0</td>\n",
       "      <td>0.9956</td>\n",
       "      <td>3.19</td>\n",
       "      <td>0.40</td>\n",
       "      <td>9.9</td>\n",
       "      <td>6</td>\n",
       "    </tr>\n",
       "  </tbody>\n",
       "</table>\n",
       "</div>"
      ],
      "text/plain": [
       "   fixed acidity  volatile acidity  citric acid  residual sugar  chlorides  \\\n",
       "0            7.0              0.27         0.36            20.7      0.045   \n",
       "1            6.3              0.30         0.34             1.6      0.049   \n",
       "2            8.1              0.28         0.40             6.9      0.050   \n",
       "3            7.2              0.23         0.32             8.5      0.058   \n",
       "4            7.2              0.23         0.32             8.5      0.058   \n",
       "\n",
       "   free sulfur dioxide  total sulfur dioxide  density    pH  sulphates  \\\n",
       "0                 45.0                 170.0   1.0010  3.00       0.45   \n",
       "1                 14.0                 132.0   0.9940  3.30       0.49   \n",
       "2                 30.0                  97.0   0.9951  3.26       0.44   \n",
       "3                 47.0                 186.0   0.9956  3.19       0.40   \n",
       "4                 47.0                 186.0   0.9956  3.19       0.40   \n",
       "\n",
       "   alcohol  quality  \n",
       "0      8.8        6  \n",
       "1      9.5        6  \n",
       "2     10.1        6  \n",
       "3      9.9        6  \n",
       "4      9.9        6  "
      ]
     },
     "execution_count": 57,
     "metadata": {},
     "output_type": "execute_result"
    }
   ],
   "source": [
    "wq_white_df.head()"
   ]
  },
  {
   "cell_type": "code",
   "execution_count": 58,
   "id": "3819c798-3f70-40fe-9ddd-74bdbfa754bd",
   "metadata": {},
   "outputs": [],
   "source": [
    "X, y = wq_white_df.drop(columns=['quality']).to_numpy() , wq_white_df['quality'].to_numpy()     "
   ]
  },
  {
   "cell_type": "code",
   "execution_count": 59,
   "id": "a320b652-806a-4c96-841b-a74957441c26",
   "metadata": {},
   "outputs": [],
   "source": [
    "y = y >= 8"
   ]
  },
  {
   "cell_type": "code",
   "execution_count": 60,
   "id": "4b37c335-02c4-4b4b-88b1-7d4b9f1cd82a",
   "metadata": {},
   "outputs": [],
   "source": [
    "y = y.astype(int)"
   ]
  },
  {
   "cell_type": "code",
   "execution_count": 61,
   "id": "dfd44df0-b272-473c-a581-7bac3d81902e",
   "metadata": {},
   "outputs": [],
   "source": [
    "theta = 0.1"
   ]
  },
  {
   "cell_type": "code",
   "execution_count": 62,
   "id": "923f4bbb-980a-4434-908f-ccf7424b5965",
   "metadata": {},
   "outputs": [],
   "source": [
    "P = np.array([x for idx, x in enumerate(X) if y[idx] == 1])\n",
    "N = np.array([x for idx, x in enumerate(X) if y[idx] == 0])"
   ]
  },
  {
   "cell_type": "code",
   "execution_count": 63,
   "id": "27b20f28-fc42-48f5-aba0-e35ebf26f183",
   "metadata": {},
   "outputs": [],
   "source": [
    "w, c = separating_hyperplane(P, N, eps_P, eps_N, eps_R, theta, lamb, num_trials=10000)"
   ]
  },
  {
   "cell_type": "code",
   "execution_count": 64,
   "id": "00de367c-d0b2-4116-8846-0c8cbf1b5104",
   "metadata": {},
   "outputs": [],
   "source": [
    "x_tilde = np.array([0 if np.dot(w, s) < eps_P else 1 for s in P])\n"
   ]
  },
  {
   "cell_type": "code",
   "execution_count": 65,
   "id": "8d84998b-081b-464e-a89b-9034d412a51b",
   "metadata": {},
   "outputs": [
    {
     "data": {
      "text/plain": [
       "32"
      ]
     },
     "execution_count": 65,
     "metadata": {},
     "output_type": "execute_result"
    }
   ],
   "source": [
    "np.sum(x_tilde)"
   ]
  },
  {
   "cell_type": "markdown",
   "id": "7c0982a1-180a-49cb-bf34-72d3697cdaa3",
   "metadata": {},
   "source": [
    "# South German Credit"
   ]
  },
  {
   "cell_type": "code",
   "execution_count": 5,
   "id": "5bd00269-a350-47f5-b766-8756f3923e14",
   "metadata": {},
   "outputs": [],
   "source": [
    "cols_english = [\"running account\", \"term\", \"morality\", \"expenditure\", \"amount\", \"savings account\", \"possession\", \"installment\", \"family status\", \"guarantor\", \"length of residence\", \"assets\", \"age\", \"long-term credit\", \"residence\", \"previous credit\", \"occupation\", \"personal\", \"telephone\", \"guest worker\", \"credit\"]"
   ]
  },
  {
   "cell_type": "code",
   "execution_count": 6,
   "id": "77456404-7678-4724-a510-bcec9639e7c4",
   "metadata": {},
   "outputs": [],
   "source": [
    "south_german_credit_df = pd.read_csv('./data/south-german-credit/SouthGermanCredit.asc', delimiter=' ')"
   ]
  },
  {
   "cell_type": "code",
   "execution_count": 7,
   "id": "e2f400bc-fd29-4130-b310-4f1e7197383d",
   "metadata": {},
   "outputs": [
    {
     "data": {
      "text/html": [
       "<div>\n",
       "<style scoped>\n",
       "    .dataframe tbody tr th:only-of-type {\n",
       "        vertical-align: middle;\n",
       "    }\n",
       "\n",
       "    .dataframe tbody tr th {\n",
       "        vertical-align: top;\n",
       "    }\n",
       "\n",
       "    .dataframe thead th {\n",
       "        text-align: right;\n",
       "    }\n",
       "</style>\n",
       "<table border=\"1\" class=\"dataframe\">\n",
       "  <thead>\n",
       "    <tr style=\"text-align: right;\">\n",
       "      <th></th>\n",
       "      <th>laufkont</th>\n",
       "      <th>laufzeit</th>\n",
       "      <th>moral</th>\n",
       "      <th>verw</th>\n",
       "      <th>hoehe</th>\n",
       "      <th>sparkont</th>\n",
       "      <th>beszeit</th>\n",
       "      <th>rate</th>\n",
       "      <th>famges</th>\n",
       "      <th>buerge</th>\n",
       "      <th>...</th>\n",
       "      <th>verm</th>\n",
       "      <th>alter</th>\n",
       "      <th>weitkred</th>\n",
       "      <th>wohn</th>\n",
       "      <th>bishkred</th>\n",
       "      <th>beruf</th>\n",
       "      <th>pers</th>\n",
       "      <th>telef</th>\n",
       "      <th>gastarb</th>\n",
       "      <th>kredit</th>\n",
       "    </tr>\n",
       "  </thead>\n",
       "  <tbody>\n",
       "    <tr>\n",
       "      <th>0</th>\n",
       "      <td>1</td>\n",
       "      <td>18</td>\n",
       "      <td>4</td>\n",
       "      <td>2</td>\n",
       "      <td>1049</td>\n",
       "      <td>1</td>\n",
       "      <td>2</td>\n",
       "      <td>4</td>\n",
       "      <td>2</td>\n",
       "      <td>1</td>\n",
       "      <td>...</td>\n",
       "      <td>2</td>\n",
       "      <td>21</td>\n",
       "      <td>3</td>\n",
       "      <td>1</td>\n",
       "      <td>1</td>\n",
       "      <td>3</td>\n",
       "      <td>2</td>\n",
       "      <td>1</td>\n",
       "      <td>2</td>\n",
       "      <td>1</td>\n",
       "    </tr>\n",
       "    <tr>\n",
       "      <th>1</th>\n",
       "      <td>1</td>\n",
       "      <td>9</td>\n",
       "      <td>4</td>\n",
       "      <td>0</td>\n",
       "      <td>2799</td>\n",
       "      <td>1</td>\n",
       "      <td>3</td>\n",
       "      <td>2</td>\n",
       "      <td>3</td>\n",
       "      <td>1</td>\n",
       "      <td>...</td>\n",
       "      <td>1</td>\n",
       "      <td>36</td>\n",
       "      <td>3</td>\n",
       "      <td>1</td>\n",
       "      <td>2</td>\n",
       "      <td>3</td>\n",
       "      <td>1</td>\n",
       "      <td>1</td>\n",
       "      <td>2</td>\n",
       "      <td>1</td>\n",
       "    </tr>\n",
       "    <tr>\n",
       "      <th>2</th>\n",
       "      <td>2</td>\n",
       "      <td>12</td>\n",
       "      <td>2</td>\n",
       "      <td>9</td>\n",
       "      <td>841</td>\n",
       "      <td>2</td>\n",
       "      <td>4</td>\n",
       "      <td>2</td>\n",
       "      <td>2</td>\n",
       "      <td>1</td>\n",
       "      <td>...</td>\n",
       "      <td>1</td>\n",
       "      <td>23</td>\n",
       "      <td>3</td>\n",
       "      <td>1</td>\n",
       "      <td>1</td>\n",
       "      <td>2</td>\n",
       "      <td>2</td>\n",
       "      <td>1</td>\n",
       "      <td>2</td>\n",
       "      <td>1</td>\n",
       "    </tr>\n",
       "    <tr>\n",
       "      <th>3</th>\n",
       "      <td>1</td>\n",
       "      <td>12</td>\n",
       "      <td>4</td>\n",
       "      <td>0</td>\n",
       "      <td>2122</td>\n",
       "      <td>1</td>\n",
       "      <td>3</td>\n",
       "      <td>3</td>\n",
       "      <td>3</td>\n",
       "      <td>1</td>\n",
       "      <td>...</td>\n",
       "      <td>1</td>\n",
       "      <td>39</td>\n",
       "      <td>3</td>\n",
       "      <td>1</td>\n",
       "      <td>2</td>\n",
       "      <td>2</td>\n",
       "      <td>1</td>\n",
       "      <td>1</td>\n",
       "      <td>1</td>\n",
       "      <td>1</td>\n",
       "    </tr>\n",
       "    <tr>\n",
       "      <th>4</th>\n",
       "      <td>1</td>\n",
       "      <td>12</td>\n",
       "      <td>4</td>\n",
       "      <td>0</td>\n",
       "      <td>2171</td>\n",
       "      <td>1</td>\n",
       "      <td>3</td>\n",
       "      <td>4</td>\n",
       "      <td>3</td>\n",
       "      <td>1</td>\n",
       "      <td>...</td>\n",
       "      <td>2</td>\n",
       "      <td>38</td>\n",
       "      <td>1</td>\n",
       "      <td>2</td>\n",
       "      <td>2</td>\n",
       "      <td>2</td>\n",
       "      <td>2</td>\n",
       "      <td>1</td>\n",
       "      <td>1</td>\n",
       "      <td>1</td>\n",
       "    </tr>\n",
       "  </tbody>\n",
       "</table>\n",
       "<p>5 rows × 21 columns</p>\n",
       "</div>"
      ],
      "text/plain": [
       "   laufkont  laufzeit  moral  verw  hoehe  sparkont  beszeit  rate  famges  \\\n",
       "0         1        18      4     2   1049         1        2     4       2   \n",
       "1         1         9      4     0   2799         1        3     2       3   \n",
       "2         2        12      2     9    841         2        4     2       2   \n",
       "3         1        12      4     0   2122         1        3     3       3   \n",
       "4         1        12      4     0   2171         1        3     4       3   \n",
       "\n",
       "   buerge  ...  verm  alter  weitkred  wohn  bishkred  beruf  pers  telef  \\\n",
       "0       1  ...     2     21         3     1         1      3     2      1   \n",
       "1       1  ...     1     36         3     1         2      3     1      1   \n",
       "2       1  ...     1     23         3     1         1      2     2      1   \n",
       "3       1  ...     1     39         3     1         2      2     1      1   \n",
       "4       1  ...     2     38         1     2         2      2     2      1   \n",
       "\n",
       "   gastarb  kredit  \n",
       "0        2       1  \n",
       "1        2       1  \n",
       "2        2       1  \n",
       "3        1       1  \n",
       "4        1       1  \n",
       "\n",
       "[5 rows x 21 columns]"
      ]
     },
     "execution_count": 7,
     "metadata": {},
     "output_type": "execute_result"
    }
   ],
   "source": [
    "south_german_credit_df.head()"
   ]
  },
  {
   "cell_type": "code",
   "execution_count": 8,
   "id": "a288bd0b-b70d-4278-a034-9b3d8869d480",
   "metadata": {},
   "outputs": [],
   "source": [
    "south_german_credit_df.columns = cols_english"
   ]
  },
  {
   "cell_type": "code",
   "execution_count": 9,
   "id": "2226b6c9-1a22-4308-b0dd-a58204acd9d5",
   "metadata": {},
   "outputs": [
    {
     "data": {
      "text/html": [
       "<div>\n",
       "<style scoped>\n",
       "    .dataframe tbody tr th:only-of-type {\n",
       "        vertical-align: middle;\n",
       "    }\n",
       "\n",
       "    .dataframe tbody tr th {\n",
       "        vertical-align: top;\n",
       "    }\n",
       "\n",
       "    .dataframe thead th {\n",
       "        text-align: right;\n",
       "    }\n",
       "</style>\n",
       "<table border=\"1\" class=\"dataframe\">\n",
       "  <thead>\n",
       "    <tr style=\"text-align: right;\">\n",
       "      <th></th>\n",
       "      <th>running account</th>\n",
       "      <th>term</th>\n",
       "      <th>morality</th>\n",
       "      <th>expenditure</th>\n",
       "      <th>amount</th>\n",
       "      <th>savings account</th>\n",
       "      <th>possession</th>\n",
       "      <th>installment</th>\n",
       "      <th>family status</th>\n",
       "      <th>guarantor</th>\n",
       "      <th>...</th>\n",
       "      <th>assets</th>\n",
       "      <th>age</th>\n",
       "      <th>long-term credit</th>\n",
       "      <th>residence</th>\n",
       "      <th>previous credit</th>\n",
       "      <th>occupation</th>\n",
       "      <th>personal</th>\n",
       "      <th>telephone</th>\n",
       "      <th>guest worker</th>\n",
       "      <th>credit</th>\n",
       "    </tr>\n",
       "  </thead>\n",
       "  <tbody>\n",
       "    <tr>\n",
       "      <th>0</th>\n",
       "      <td>1</td>\n",
       "      <td>18</td>\n",
       "      <td>4</td>\n",
       "      <td>2</td>\n",
       "      <td>1049</td>\n",
       "      <td>1</td>\n",
       "      <td>2</td>\n",
       "      <td>4</td>\n",
       "      <td>2</td>\n",
       "      <td>1</td>\n",
       "      <td>...</td>\n",
       "      <td>2</td>\n",
       "      <td>21</td>\n",
       "      <td>3</td>\n",
       "      <td>1</td>\n",
       "      <td>1</td>\n",
       "      <td>3</td>\n",
       "      <td>2</td>\n",
       "      <td>1</td>\n",
       "      <td>2</td>\n",
       "      <td>1</td>\n",
       "    </tr>\n",
       "    <tr>\n",
       "      <th>1</th>\n",
       "      <td>1</td>\n",
       "      <td>9</td>\n",
       "      <td>4</td>\n",
       "      <td>0</td>\n",
       "      <td>2799</td>\n",
       "      <td>1</td>\n",
       "      <td>3</td>\n",
       "      <td>2</td>\n",
       "      <td>3</td>\n",
       "      <td>1</td>\n",
       "      <td>...</td>\n",
       "      <td>1</td>\n",
       "      <td>36</td>\n",
       "      <td>3</td>\n",
       "      <td>1</td>\n",
       "      <td>2</td>\n",
       "      <td>3</td>\n",
       "      <td>1</td>\n",
       "      <td>1</td>\n",
       "      <td>2</td>\n",
       "      <td>1</td>\n",
       "    </tr>\n",
       "    <tr>\n",
       "      <th>2</th>\n",
       "      <td>2</td>\n",
       "      <td>12</td>\n",
       "      <td>2</td>\n",
       "      <td>9</td>\n",
       "      <td>841</td>\n",
       "      <td>2</td>\n",
       "      <td>4</td>\n",
       "      <td>2</td>\n",
       "      <td>2</td>\n",
       "      <td>1</td>\n",
       "      <td>...</td>\n",
       "      <td>1</td>\n",
       "      <td>23</td>\n",
       "      <td>3</td>\n",
       "      <td>1</td>\n",
       "      <td>1</td>\n",
       "      <td>2</td>\n",
       "      <td>2</td>\n",
       "      <td>1</td>\n",
       "      <td>2</td>\n",
       "      <td>1</td>\n",
       "    </tr>\n",
       "    <tr>\n",
       "      <th>3</th>\n",
       "      <td>1</td>\n",
       "      <td>12</td>\n",
       "      <td>4</td>\n",
       "      <td>0</td>\n",
       "      <td>2122</td>\n",
       "      <td>1</td>\n",
       "      <td>3</td>\n",
       "      <td>3</td>\n",
       "      <td>3</td>\n",
       "      <td>1</td>\n",
       "      <td>...</td>\n",
       "      <td>1</td>\n",
       "      <td>39</td>\n",
       "      <td>3</td>\n",
       "      <td>1</td>\n",
       "      <td>2</td>\n",
       "      <td>2</td>\n",
       "      <td>1</td>\n",
       "      <td>1</td>\n",
       "      <td>1</td>\n",
       "      <td>1</td>\n",
       "    </tr>\n",
       "    <tr>\n",
       "      <th>4</th>\n",
       "      <td>1</td>\n",
       "      <td>12</td>\n",
       "      <td>4</td>\n",
       "      <td>0</td>\n",
       "      <td>2171</td>\n",
       "      <td>1</td>\n",
       "      <td>3</td>\n",
       "      <td>4</td>\n",
       "      <td>3</td>\n",
       "      <td>1</td>\n",
       "      <td>...</td>\n",
       "      <td>2</td>\n",
       "      <td>38</td>\n",
       "      <td>1</td>\n",
       "      <td>2</td>\n",
       "      <td>2</td>\n",
       "      <td>2</td>\n",
       "      <td>2</td>\n",
       "      <td>1</td>\n",
       "      <td>1</td>\n",
       "      <td>1</td>\n",
       "    </tr>\n",
       "  </tbody>\n",
       "</table>\n",
       "<p>5 rows × 21 columns</p>\n",
       "</div>"
      ],
      "text/plain": [
       "   running account  term  morality  expenditure  amount  savings account  \\\n",
       "0                1    18         4            2    1049                1   \n",
       "1                1     9         4            0    2799                1   \n",
       "2                2    12         2            9     841                2   \n",
       "3                1    12         4            0    2122                1   \n",
       "4                1    12         4            0    2171                1   \n",
       "\n",
       "   possession  installment  family status  guarantor  ...  assets  age  \\\n",
       "0           2            4              2          1  ...       2   21   \n",
       "1           3            2              3          1  ...       1   36   \n",
       "2           4            2              2          1  ...       1   23   \n",
       "3           3            3              3          1  ...       1   39   \n",
       "4           3            4              3          1  ...       2   38   \n",
       "\n",
       "   long-term credit  residence  previous credit  occupation  personal  \\\n",
       "0                 3          1                1           3         2   \n",
       "1                 3          1                2           3         1   \n",
       "2                 3          1                1           2         2   \n",
       "3                 3          1                2           2         1   \n",
       "4                 1          2                2           2         2   \n",
       "\n",
       "   telephone  guest worker  credit  \n",
       "0          1             2       1  \n",
       "1          1             2       1  \n",
       "2          1             2       1  \n",
       "3          1             1       1  \n",
       "4          1             1       1  \n",
       "\n",
       "[5 rows x 21 columns]"
      ]
     },
     "execution_count": 9,
     "metadata": {},
     "output_type": "execute_result"
    }
   ],
   "source": [
    "south_german_credit_df.head()"
   ]
  },
  {
   "cell_type": "code",
   "execution_count": 12,
   "id": "d832ac6b-f03d-4dd9-a30e-522ebe76135a",
   "metadata": {},
   "outputs": [],
   "source": [
    "X, y = south_german_credit_df.drop(columns=['credit']).to_numpy() , south_german_credit_df['credit'].to_numpy()     "
   ]
  },
  {
   "cell_type": "code",
   "execution_count": 21,
   "id": "f1d2a5a4-01fc-4af7-9529-55bfca3d4f69",
   "metadata": {},
   "outputs": [],
   "source": [
    "theta = 0.9"
   ]
  },
  {
   "cell_type": "code",
   "execution_count": 23,
   "id": "84642710-6714-4128-8e09-231554d19631",
   "metadata": {},
   "outputs": [],
   "source": [
    "P = np.array([x for idx, x in enumerate(X) if y[idx] == 1])\n",
    "N = np.array([x for idx, x in enumerate(X) if y[idx] == 0])"
   ]
  },
  {
   "cell_type": "code",
   "execution_count": 24,
   "id": "f1f283b1-d7e8-42a3-b1cf-eaa1dcf70102",
   "metadata": {},
   "outputs": [],
   "source": [
    "w, c = separating_hyperplane(P, N, eps_P, eps_N, eps_R, theta, lamb, num_trials=10000)"
   ]
  },
  {
   "cell_type": "code",
   "execution_count": 25,
   "id": "a5af29b4-50c9-4199-985c-6e325d35b590",
   "metadata": {},
   "outputs": [],
   "source": [
    "x_tilde = np.array([0 if np.dot(w, s) < eps_P else 1 for s in P])\n"
   ]
  },
  {
   "cell_type": "code",
   "execution_count": 26,
   "id": "065aed13-5c2f-4a01-82d5-84c74bfa0b6a",
   "metadata": {},
   "outputs": [
    {
     "data": {
      "text/plain": [
       "50"
      ]
     },
     "execution_count": 26,
     "metadata": {},
     "output_type": "execute_result"
    }
   ],
   "source": [
    "np.sum(x_tilde)"
   ]
  },
  {
   "cell_type": "markdown",
   "id": "4a63da88-087d-4343-8ffc-025840544ecf",
   "metadata": {},
   "source": [
    "# Crop Mapping Dataset"
   ]
  },
  {
   "cell_type": "code",
   "execution_count": 33,
   "id": "2b5765e3-07ca-4f40-8e48-0440a2ca1ccb",
   "metadata": {},
   "outputs": [],
   "source": [
    "crop_df = pd.read_csv('./data/crops_new/WinnipegDataset.txt', delimiter=',')"
   ]
  },
  {
   "cell_type": "code",
   "execution_count": 34,
   "id": "15a0ce38-7169-45cd-9d2f-b7810555c85b",
   "metadata": {},
   "outputs": [
    {
     "data": {
      "text/html": [
       "<div>\n",
       "<style scoped>\n",
       "    .dataframe tbody tr th:only-of-type {\n",
       "        vertical-align: middle;\n",
       "    }\n",
       "\n",
       "    .dataframe tbody tr th {\n",
       "        vertical-align: top;\n",
       "    }\n",
       "\n",
       "    .dataframe thead th {\n",
       "        text-align: right;\n",
       "    }\n",
       "</style>\n",
       "<table border=\"1\" class=\"dataframe\">\n",
       "  <thead>\n",
       "    <tr style=\"text-align: right;\">\n",
       "      <th></th>\n",
       "      <th>label</th>\n",
       "      <th>f1</th>\n",
       "      <th>f2</th>\n",
       "      <th>f3</th>\n",
       "      <th>f4</th>\n",
       "      <th>f5</th>\n",
       "      <th>f6</th>\n",
       "      <th>f7</th>\n",
       "      <th>f8</th>\n",
       "      <th>f9</th>\n",
       "      <th>...</th>\n",
       "      <th>f165</th>\n",
       "      <th>f166</th>\n",
       "      <th>f167</th>\n",
       "      <th>f168</th>\n",
       "      <th>f169</th>\n",
       "      <th>f170</th>\n",
       "      <th>f171</th>\n",
       "      <th>f172</th>\n",
       "      <th>f173</th>\n",
       "      <th>f174</th>\n",
       "    </tr>\n",
       "  </thead>\n",
       "  <tbody>\n",
       "    <tr>\n",
       "      <th>0</th>\n",
       "      <td>1</td>\n",
       "      <td>-13.559</td>\n",
       "      <td>-21.407</td>\n",
       "      <td>-11.4040</td>\n",
       "      <td>-15.248</td>\n",
       "      <td>-11.923</td>\n",
       "      <td>-15.291</td>\n",
       "      <td>-2.1548</td>\n",
       "      <td>-7.8474</td>\n",
       "      <td>-10.0020</td>\n",
       "      <td>...</td>\n",
       "      <td>0.18519</td>\n",
       "      <td>0.72602</td>\n",
       "      <td>5.3333</td>\n",
       "      <td>6.000000</td>\n",
       "      <td>0.29489</td>\n",
       "      <td>9.77780</td>\n",
       "      <td>2.44440</td>\n",
       "      <td>1.67700</td>\n",
       "      <td>0.20988</td>\n",
       "      <td>0.65422</td>\n",
       "    </tr>\n",
       "    <tr>\n",
       "      <th>1</th>\n",
       "      <td>1</td>\n",
       "      <td>-12.802</td>\n",
       "      <td>-20.335</td>\n",
       "      <td>-10.3990</td>\n",
       "      <td>-14.132</td>\n",
       "      <td>-11.096</td>\n",
       "      <td>-14.361</td>\n",
       "      <td>-2.4039</td>\n",
       "      <td>-7.5330</td>\n",
       "      <td>-9.9369</td>\n",
       "      <td>...</td>\n",
       "      <td>0.33333</td>\n",
       "      <td>-0.48751</td>\n",
       "      <td>2.1111</td>\n",
       "      <td>0.098765</td>\n",
       "      <td>0.83333</td>\n",
       "      <td>0.33333</td>\n",
       "      <td>0.33333</td>\n",
       "      <td>0.84869</td>\n",
       "      <td>0.50617</td>\n",
       "      <td>-0.18898</td>\n",
       "    </tr>\n",
       "    <tr>\n",
       "      <th>2</th>\n",
       "      <td>1</td>\n",
       "      <td>-12.431</td>\n",
       "      <td>-19.902</td>\n",
       "      <td>-10.0740</td>\n",
       "      <td>-13.598</td>\n",
       "      <td>-10.829</td>\n",
       "      <td>-14.048</td>\n",
       "      <td>-2.3566</td>\n",
       "      <td>-7.4717</td>\n",
       "      <td>-9.8283</td>\n",
       "      <td>...</td>\n",
       "      <td>0.25926</td>\n",
       "      <td>0.25298</td>\n",
       "      <td>2.2222</td>\n",
       "      <td>0.172840</td>\n",
       "      <td>0.68889</td>\n",
       "      <td>0.88889</td>\n",
       "      <td>0.66667</td>\n",
       "      <td>1.27300</td>\n",
       "      <td>0.30864</td>\n",
       "      <td>0.10483</td>\n",
       "    </tr>\n",
       "    <tr>\n",
       "      <th>3</th>\n",
       "      <td>1</td>\n",
       "      <td>-12.689</td>\n",
       "      <td>-19.529</td>\n",
       "      <td>-10.0280</td>\n",
       "      <td>-13.350</td>\n",
       "      <td>-11.056</td>\n",
       "      <td>-14.014</td>\n",
       "      <td>-2.6611</td>\n",
       "      <td>-6.8396</td>\n",
       "      <td>-9.5006</td>\n",
       "      <td>...</td>\n",
       "      <td>0.16049</td>\n",
       "      <td>0.43750</td>\n",
       "      <td>4.1111</td>\n",
       "      <td>0.320990</td>\n",
       "      <td>0.83333</td>\n",
       "      <td>0.33333</td>\n",
       "      <td>0.33333</td>\n",
       "      <td>1.14910</td>\n",
       "      <td>0.38272</td>\n",
       "      <td>0.41603</td>\n",
       "    </tr>\n",
       "    <tr>\n",
       "      <th>4</th>\n",
       "      <td>1</td>\n",
       "      <td>-12.686</td>\n",
       "      <td>-19.278</td>\n",
       "      <td>-9.8185</td>\n",
       "      <td>-13.108</td>\n",
       "      <td>-10.932</td>\n",
       "      <td>-13.939</td>\n",
       "      <td>-2.8675</td>\n",
       "      <td>-6.5919</td>\n",
       "      <td>-9.4594</td>\n",
       "      <td>...</td>\n",
       "      <td>0.18519</td>\n",
       "      <td>0.35000</td>\n",
       "      <td>4.0000</td>\n",
       "      <td>0.444440</td>\n",
       "      <td>0.68889</td>\n",
       "      <td>0.88889</td>\n",
       "      <td>0.66667</td>\n",
       "      <td>1.58110</td>\n",
       "      <td>0.20988</td>\n",
       "      <td>0.50000</td>\n",
       "    </tr>\n",
       "  </tbody>\n",
       "</table>\n",
       "<p>5 rows × 175 columns</p>\n",
       "</div>"
      ],
      "text/plain": [
       "   label      f1      f2       f3      f4      f5      f6      f7      f8  \\\n",
       "0      1 -13.559 -21.407 -11.4040 -15.248 -11.923 -15.291 -2.1548 -7.8474   \n",
       "1      1 -12.802 -20.335 -10.3990 -14.132 -11.096 -14.361 -2.4039 -7.5330   \n",
       "2      1 -12.431 -19.902 -10.0740 -13.598 -10.829 -14.048 -2.3566 -7.4717   \n",
       "3      1 -12.689 -19.529 -10.0280 -13.350 -11.056 -14.014 -2.6611 -6.8396   \n",
       "4      1 -12.686 -19.278  -9.8185 -13.108 -10.932 -13.939 -2.8675 -6.5919   \n",
       "\n",
       "        f9  ...     f165     f166    f167      f168     f169     f170  \\\n",
       "0 -10.0020  ...  0.18519  0.72602  5.3333  6.000000  0.29489  9.77780   \n",
       "1  -9.9369  ...  0.33333 -0.48751  2.1111  0.098765  0.83333  0.33333   \n",
       "2  -9.8283  ...  0.25926  0.25298  2.2222  0.172840  0.68889  0.88889   \n",
       "3  -9.5006  ...  0.16049  0.43750  4.1111  0.320990  0.83333  0.33333   \n",
       "4  -9.4594  ...  0.18519  0.35000  4.0000  0.444440  0.68889  0.88889   \n",
       "\n",
       "      f171     f172     f173     f174  \n",
       "0  2.44440  1.67700  0.20988  0.65422  \n",
       "1  0.33333  0.84869  0.50617 -0.18898  \n",
       "2  0.66667  1.27300  0.30864  0.10483  \n",
       "3  0.33333  1.14910  0.38272  0.41603  \n",
       "4  0.66667  1.58110  0.20988  0.50000  \n",
       "\n",
       "[5 rows x 175 columns]"
      ]
     },
     "execution_count": 34,
     "metadata": {},
     "output_type": "execute_result"
    }
   ],
   "source": [
    "crop_df.head()"
   ]
  },
  {
   "cell_type": "code",
   "execution_count": 36,
   "id": "75adf2c6-7777-4bdf-9475-3bc3d4abcbc4",
   "metadata": {},
   "outputs": [],
   "source": [
    "X, y = crop_df.drop(columns=['label']).to_numpy() , crop_df['label'].to_numpy()     "
   ]
  },
  {
   "cell_type": "code",
   "execution_count": 43,
   "id": "23ad8f6c-aa3d-4c78-a38a-a8f95bc7e30b",
   "metadata": {},
   "outputs": [],
   "source": [
    "idx = np.random.choice(np.arange(len(X)), int(len(X)/10), replace=False)\n"
   ]
  },
  {
   "cell_type": "code",
   "execution_count": 44,
   "id": "5218f35f-8ce3-407b-ad9c-bfe7903241e2",
   "metadata": {},
   "outputs": [],
   "source": [
    "X = X[idx]\n",
    "y = y[idx]"
   ]
  },
  {
   "cell_type": "code",
   "execution_count": 45,
   "id": "2c9a48ae-29a9-4880-b492-9cf058e1c340",
   "metadata": {},
   "outputs": [],
   "source": [
    "y = (y == 6).astype(int)"
   ]
  },
  {
   "cell_type": "code",
   "execution_count": 46,
   "id": "fae89e5b-995f-4e81-8184-578298ee0cc8",
   "metadata": {},
   "outputs": [],
   "source": [
    "theta = 0.99"
   ]
  },
  {
   "cell_type": "code",
   "execution_count": 47,
   "id": "08871bb6-293b-4509-bcd4-9ad2a9044569",
   "metadata": {},
   "outputs": [],
   "source": [
    "P = np.array([x for idx, x in enumerate(X) if y[idx] == 1])\n",
    "N = np.array([x for idx, x in enumerate(X) if y[idx] == 0])"
   ]
  },
  {
   "cell_type": "code",
   "execution_count": 48,
   "id": "7e314ef2-bb26-4703-b54d-6794e95dd92f",
   "metadata": {},
   "outputs": [],
   "source": [
    "w, c = separating_hyperplane(P, N, eps_P, eps_N, eps_R, theta, lamb, num_trials=10000)"
   ]
  },
  {
   "cell_type": "code",
   "execution_count": 49,
   "id": "4e86e9ec-54c1-40b7-8352-ef483887e48d",
   "metadata": {},
   "outputs": [],
   "source": [
    "x_tilde = np.array([0 if np.dot(w, s) < eps_P else 1 for s in P])\n"
   ]
  },
  {
   "cell_type": "code",
   "execution_count": 50,
   "id": "d91672d5-d5a6-4e47-825c-adbe6dbb9679",
   "metadata": {},
   "outputs": [
    {
     "data": {
      "text/plain": [
       "1267"
      ]
     },
     "execution_count": 50,
     "metadata": {},
     "output_type": "execute_result"
    }
   ],
   "source": [
    "np.sum(x_tilde)"
   ]
  },
  {
   "cell_type": "code",
   "execution_count": null,
   "id": "2bced053-777d-4362-9490-12347d1b1523",
   "metadata": {},
   "outputs": [],
   "source": []
  }
 ],
 "metadata": {
  "kernelspec": {
   "display_name": "Python 3 (ipykernel)",
   "language": "python",
   "name": "python3"
  },
  "language_info": {
   "codemirror_mode": {
    "name": "ipython",
    "version": 3
   },
   "file_extension": ".py",
   "mimetype": "text/x-python",
   "name": "python",
   "nbconvert_exporter": "python",
   "pygments_lexer": "ipython3",
   "version": "3.9.21"
  }
 },
 "nbformat": 4,
 "nbformat_minor": 5
}
