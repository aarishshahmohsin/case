{
 "cells": [
  {
   "cell_type": "code",
   "execution_count": 1,
   "id": "7b38e285-7e16-4a89-9012-d0f3bfe335c9",
   "metadata": {},
   "outputs": [],
   "source": [
    "from real_datasets import BreastCancerDataset, WineQualityRedDataset, WineQualityWhiteDataset, SouthGermanCreditDataset, CropMappingDataset"
   ]
  },
  {
   "cell_type": "code",
   "execution_count": 2,
   "id": "8f9a2289-e703-41f3-aa1c-545a657effd3",
   "metadata": {},
   "outputs": [],
   "source": [
    "from solvers import GurobiSolver, CplexSolver"
   ]
  },
  {
   "cell_type": "code",
   "execution_count": 3,
   "id": "9d324c84-2288-4010-b9a7-cc6d9358a42a",
   "metadata": {},
   "outputs": [],
   "source": [
    "bc = BreastCancerDataset()\n",
    "wqr = WineQualityRedDataset()\n",
    "wqw = WineQualityWhiteDataset()\n",
    "sgc = SouthGermanCreditDataset()\n",
    "cm = CropMappingDataset()"
   ]
  },
  {
   "cell_type": "code",
   "execution_count": 4,
   "id": "d90ee702-e5c7-435b-ae5f-41f3e329a3c5",
   "metadata": {},
   "outputs": [],
   "source": [
    "ls = [bc, wqr, wqw, sgc, cm]\n",
    "# ls = [bc]\n",
    "# ls = [cm]"
   ]
  },
  {
   "cell_type": "code",
   "execution_count": 5,
   "id": "21cd2308-0ccc-4506-8fe3-221ac7d8dd37",
   "metadata": {},
   "outputs": [],
   "source": [
    "final_res = []"
   ]
  },
  {
   "cell_type": "code",
   "execution_count": null,
   "id": "e6bb0f6f-abab-4f98-a4e3-6a8ff533352d",
   "metadata": {},
   "outputs": [
    {
     "name": "stdout",
     "output_type": "stream",
     "text": [
      "0\n",
      "Set parameter LicenseID to value 2604237\n",
      "Solver status: 101 (integer optimal solution)\n",
      "[([357, 27759], [357, 0])]\n",
      "1\n",
      "Solver status: 101 (integer optimal solution)\n",
      "[([357, 27759], [357, 0]), ([18, 503], [18, 0])]\n",
      "2\n",
      "Solver status: 101 (integer optimal solution)\n",
      "[([357, 27759], [357, 0]), ([18, 503], [18, 0]), ([180, 1829], [180, 0])]\n",
      "3\n",
      "Solver status: 101 (integer optimal solution)\n",
      "[([357, 27759], [357, 0]), ([18, 503], [18, 0]), ([180, 1829], [180, 0]), ([700, 21198], [700, 0])]\n",
      "4\n"
     ]
    }
   ],
   "source": [
    "for idx, dataset in enumerate(ls):\n",
    "    print(idx)\n",
    "    P, N = dataset.generate()\n",
    "    t0, t1, t, l = dataset.params()\n",
    "    gb = GurobiSolver(P=P, N=N, theta=t, lambda_param=l)\n",
    "    gb_obj, gb_nodes, _ = gb.solve()\n",
    "    cp = CplexSolver(P=P, N=N, theta=t, lambda_param=l)\n",
    "    cp_obj, cp_nodes, _ = cp.solve()\n",
    "    final_res.append(([gb_obj, gb_nodes], [cp_obj, cp_nodes]))\n",
    "    print(final_res)"
   ]
  },
  {
   "cell_type": "code",
   "execution_count": null,
   "id": "de82eed1-5505-4133-94cc-192f9afcd51f",
   "metadata": {},
   "outputs": [],
   "source": [
    "final_res"
   ]
  },
  {
   "cell_type": "code",
   "execution_count": null,
   "id": "1558add5-0a38-4ca5-913a-9a77e89455ae",
   "metadata": {},
   "outputs": [],
   "source": []
  }
 ],
 "metadata": {
  "kernelspec": {
   "display_name": "Python 3 (ipykernel)",
   "language": "python",
   "name": "python3"
  },
  "language_info": {
   "codemirror_mode": {
    "name": "ipython",
    "version": 3
   },
   "file_extension": ".py",
   "mimetype": "text/x-python",
   "name": "python",
   "nbconvert_exporter": "python",
   "pygments_lexer": "ipython3",
   "version": "3.9.21"
  }
 },
 "nbformat": 4,
 "nbformat_minor": 5
}
