{
 "cells": [
  {
   "cell_type": "code",
   "execution_count": 1,
   "id": "7b38e285-7e16-4a89-9012-d0f3bfe335c9",
   "metadata": {},
   "outputs": [],
   "source": [
    "from real_datasets import BreastCancerDataset, WineQualityRedDataset, WineQualityWhiteDataset, SouthGermanCreditDataset, CropMappingDataset"
   ]
  },
  {
   "cell_type": "code",
   "execution_count": 1,
   "id": "8f9a2289-e703-41f3-aa1c-545a657effd3",
   "metadata": {},
   "outputs": [],
   "source": [
    "from solvers import gurobi_solver, cplex_solver"
   ]
  },
  {
   "cell_type": "code",
   "execution_count": 3,
   "id": "9d324c84-2288-4010-b9a7-cc6d9358a42a",
   "metadata": {},
   "outputs": [],
   "source": [
    "bc = BreastCancerDataset()\n",
    "wqr = WineQualityRedDataset()\n",
    "wqw = WineQualityWhiteDataset()\n",
    "sgc = SouthGermanCreditDataset()\n",
    "cm = CropMappingDataset()"
   ]
  },
  {
   "cell_type": "code",
   "execution_count": 4,
   "id": "d90ee702-e5c7-435b-ae5f-41f3e329a3c5",
   "metadata": {},
   "outputs": [],
   "source": [
    "ls = [bc, wqr, wqw, sgc, cm]"
   ]
  },
  {
   "cell_type": "code",
   "execution_count": 5,
   "id": "21cd2308-0ccc-4506-8fe3-221ac7d8dd37",
   "metadata": {},
   "outputs": [],
   "source": [
    "final_res = []"
   ]
  },
  {
   "cell_type": "code",
   "execution_count": 6,
   "id": "e6bb0f6f-abab-4f98-a4e3-6a8ff533352d",
   "metadata": {},
   "outputs": [
    {
     "name": "stdout",
     "output_type": "stream",
     "text": [
      "0\n",
      "Set parameter LicenseID to value 2604237\n",
      "Set parameter LicenseID to value 2604237\n",
      "Set parameter TimeLimit to value 120\n",
      "Version identifier: 22.1.1.0 | 2022-11-28 | 9160aff4d\n",
      "CPXPARAM_MIP_Display                             0\n",
      "CPXPARAM_TimeLimit                               120\n",
      "CPXPARAM_WorkMem                                 4096\n",
      "1\n",
      "Set parameter LicenseID to value 2604237\n",
      "Set parameter TimeLimit to value 120\n",
      "Version identifier: 22.1.1.0 | 2022-11-28 | 9160aff4d\n",
      "CPXPARAM_MIP_Display                             0\n",
      "CPXPARAM_TimeLimit                               120\n",
      "CPXPARAM_WorkMem                                 4096\n",
      "2\n",
      "Set parameter LicenseID to value 2604237\n",
      "Set parameter TimeLimit to value 120\n",
      "Version identifier: 22.1.1.0 | 2022-11-28 | 9160aff4d\n",
      "CPXPARAM_MIP_Display                             0\n",
      "CPXPARAM_TimeLimit                               120\n",
      "CPXPARAM_WorkMem                                 4096\n",
      "3\n",
      "Set parameter LicenseID to value 2604237\n",
      "Set parameter TimeLimit to value 120\n",
      "Version identifier: 22.1.1.0 | 2022-11-28 | 9160aff4d\n",
      "CPXPARAM_MIP_Display                             0\n",
      "CPXPARAM_TimeLimit                               120\n",
      "CPXPARAM_WorkMem                                 4096\n",
      "4\n",
      "Set parameter LicenseID to value 2604237\n",
      "Set parameter TimeLimit to value 120\n",
      "Version identifier: 22.1.1.0 | 2022-11-28 | 9160aff4d\n",
      "CPXPARAM_MIP_Display                             0\n",
      "CPXPARAM_TimeLimit                               120\n",
      "CPXPARAM_WorkMem                                 4096\n"
     ]
    }
   ],
   "source": [
    "for idx, dataset in enumerate(ls):\n",
    "    print(idx)\n",
    "    P, N = dataset.generate()\n",
    "    t0, t1, t, l = dataset.params()\n",
    "    res_gurobi = gurobi_solver(theta=t, P=P, N=N, lambda_param=l)\n",
    "    res_cplex = cplex_solver(theta=t, P=P, N=N, lambda_param=l)\n",
    "    final_res.append([res_gurobi, res_cplex])\n",
    "    \n",
    "   \n",
    "    "
   ]
  },
  {
   "cell_type": "code",
   "execution_count": 7,
   "id": "de82eed1-5505-4133-94cc-192f9afcd51f",
   "metadata": {},
   "outputs": [
    {
     "name": "stdout",
     "output_type": "stream",
     "text": [
      "357.0 0.05709576606750488\n",
      "357.0 0.06382322311401367\n",
      "18.0 0.05182337760925293\n",
      "18.0 2.0528039932250977\n",
      "20.0 120.00595831871033\n",
      "62.0 120.03052091598511\n",
      "40.0 120.00442957878113\n",
      "165.0 120.0140130519867\n",
      "2674.0 15.986196994781494\n",
      "2674.0 46.386996269226074\n"
     ]
    }
   ],
   "source": [
    "for i in final_res:\n",
    "    print(i[0]['Reach'], i[0]['Time taken'])\n",
    "    print(i[1]['Reach'], i[1]['Time taken'])"
   ]
  },
  {
   "cell_type": "code",
   "execution_count": 2,
   "id": "1558add5-0a38-4ca5-913a-9a77e89455ae",
   "metadata": {},
   "outputs": [],
   "source": [
    "from synthetic_datasets import ClusterDataset, TwoClusterDataset, DiffusedBenchmark, PrismDataset, L1PrismDataset"
   ]
  },
  {
   "cell_type": "code",
   "execution_count": 3,
   "id": "94313c14-1e23-4035-967a-68205d51b64e",
   "metadata": {},
   "outputs": [
    {
     "name": "stdout",
     "output_type": "stream",
     "text": [
      "2\n"
     ]
    }
   ],
   "source": [
    "cd = ClusterDataset()\n",
    "tc = TwoClusterDataset() \n",
    "db = DiffusedBenchmark() \n",
    "pd = PrismDataset()\n",
    "l1 = L1PrismDataset()"
   ]
  },
  {
   "cell_type": "code",
   "execution_count": 4,
   "id": "04db5769-813c-4bdb-a758-6310a7915d41",
   "metadata": {},
   "outputs": [],
   "source": [
    "sds = [ l1]\n",
    "# sds = [cd, tc, pd]"
   ]
  },
  {
   "cell_type": "code",
   "execution_count": 5,
   "id": "e071a7f8-a8e8-4e0f-9822-d2a40d1792a3",
   "metadata": {},
   "outputs": [],
   "source": [
    "sy_final_res = []"
   ]
  },
  {
   "cell_type": "code",
   "execution_count": 6,
   "id": "25f8f9c1-2f94-404f-a29e-67fe07911a1b",
   "metadata": {},
   "outputs": [
    {
     "name": "stdout",
     "output_type": "stream",
     "text": [
      "0\n",
      "Set parameter LicenseID to value 2604237\n",
      "Set parameter LicenseID to value 2604237\n",
      "Set parameter TimeLimit to value 120\n",
      "Version identifier: 22.1.1.0 | 2022-11-28 | 9160aff4d\n",
      "CPXPARAM_MIP_Display                             0\n",
      "CPXPARAM_TimeLimit                               120\n",
      "CPXPARAM_WorkMem                                 4096\n",
      "1.0 1.0\n"
     ]
    }
   ],
   "source": [
    "for idx, dataset in enumerate(sds):\n",
    "    print(idx)\n",
    "    P, N = dataset.generate()\n",
    "    t0, t1, t, l = dataset.params()\n",
    "    res_gurobi = gurobi_solver(theta=t, P=P, N=N, lambda_param=l)\n",
    "    res_cplex = cplex_solver(theta=t, P=P, N=N, lambda_param=l)\n",
    "    print(res_gurobi['Reach'], res_cplex['Reach'])\n",
    "    \n",
    "   \n",
    "    "
   ]
  },
  {
   "cell_type": "code",
   "execution_count": 7,
   "id": "f7e3ac47-d973-403c-9077-e244ef338f8d",
   "metadata": {},
   "outputs": [
    {
     "data": {
      "text/plain": [
       "[]"
      ]
     },
     "execution_count": 7,
     "metadata": {},
     "output_type": "execute_result"
    }
   ],
   "source": [
    "sy_final_res"
   ]
  },
  {
   "cell_type": "code",
   "execution_count": 8,
   "id": "e03c6161-39d3-48ea-bc5e-69a9210d0b6d",
   "metadata": {},
   "outputs": [],
   "source": [
    "import numpy as np\n",
    "import matplotlib.pyplot as plt"
   ]
  },
  {
   "cell_type": "code",
   "execution_count": 9,
   "id": "6e2ffef3-afe5-4263-9a8b-fc5cd749ebab",
   "metadata": {},
   "outputs": [],
   "source": [
    "from utils import plot_P_N"
   ]
  },
  {
   "cell_type": "code",
   "execution_count": 10,
   "id": "1894d673-2733-4f17-8f11-f719173b3ba4",
   "metadata": {},
   "outputs": [],
   "source": [
    "P, N = l1.generate()"
   ]
  },
  {
   "cell_type": "code",
   "execution_count": 11,
   "id": "0849c739-7482-4267-b9fe-355dc3b545ef",
   "metadata": {},
   "outputs": [
    {
     "data": {
      "image/png": "[encoded data removed]",
      "text/plain": [
       "<Figure size 400x400 with 1 Axes>"
      ]
     },
     "metadata": {},
     "output_type": "display_data"
    }
   ],
   "source": [
    "plot_P_N(P, N)"
   ]
  },
  {
   "cell_type": "code",
   "execution_count": null,
   "id": "a630afd9-1a54-4eb9-af6d-78a2e6dbee9d",
   "metadata": {},
   "outputs": [],
   "source": [
    "P, N"
   ]
  },
  {
   "cell_type": "code",
   "execution_count": null,
   "id": "6cbaff20-76d0-451f-98c1-ef53e624c9f9",
   "metadata": {},
   "outputs": [],
   "source": [
    "import numpy as np\n",
    "X = np.vstack((P, N)) \n",
    "y = np.hstack((np.ones(len(P)), np.zeros(len(N))))"
   ]
  },
  {
   "cell_type": "code",
   "execution_count": null,
   "id": "dfb97fba-e637-4bd6-b4ec-78603cf93f77",
   "metadata": {},
   "outputs": [],
   "source": [
    "import numpy as np\n",
    "import matplotlib.pyplot as plt\n",
    "from sklearn.model_selection import train_test_split  \n",
    "from gurobipy import Model, GRB, quicksum\n",
    "\n",
    "# def generate_custom_2_cluster_data(n_negative=320, n_positive=80, d=2):\n",
    "#     negative_samples = np.random.rand(n_negative, d)\n",
    "#     positive_cluster_1 = np.random.rand(n_positive // 2, d) * 0.2  # around 0\n",
    "#     positive_cluster_2 = np.random.rand(n_positive // 2, d)  \n",
    "#     positive_samples = np.vstack((positive_cluster_1, positive_cluster_2))\n",
    "#     X = np.vstack((positive_samples, negative_samples))\n",
    "#     y = np.hstack((np.ones(len(positive_samples)), np.zeros(len(negative_samples))))\n",
    "#     return X, y\n",
    "\n",
    "def generate_custom_2_cluster_data(n=400, d=8, d_max=8):\n",
    "    negative_samples = np.random.rand(4 * n // 5, d)\n",
    "    s = (np.math.factorial(d) / np.math.factorial(d_max)) ** (1 / d)  \n",
    "    positive_uniform = np.random.rand(n // 10, d)\n",
    "    positive_cluster_1 = np.random.rand(n // 20, d)\n",
    "    positive_cluster_1 = positive_cluster_1 / positive_cluster_1.sum(axis=1, keepdims=True) * s\n",
    "    positive_cluster_2 = np.random.rand(n // 20, d)\n",
    "    positive_cluster_2 = positive_cluster_2 / positive_cluster_2.sum(axis=1, keepdims=True) * s\n",
    "    positive_cluster_2 = s - positive_cluster_2\n",
    "    positive_samples = np.vstack((positive_uniform, positive_cluster_1, positive_cluster_2))\n",
    "    X = np.vstack((positive_samples, negative_samples))\n",
    "    y = np.hstack((np.ones(len(positive_samples)), np.zeros(len(negative_samples))))\n",
    "    return X, y\n",
    "\n",
    "# X, y = generate_custom_2_cluster_data()\n",
    "X_train, X_test, y_train, y_test = train_test_split(X, y, test_size=0.5, random_state=42)\n",
    "\n",
    "plt.figure(figsize=(8, 6))\n",
    "plt.scatter(X[y == 0][:, 0], X[y == 0][:, 1], c='blue', label='Negative Samples',marker='+')\n",
    "plt.scatter(X[y == 1][:, 0], X[y == 1][:, 1], c='red', label='Positive Samples',marker='x')\n",
    "plt.legend()\n",
    "plt.title('2-Cluster Benchmark Data Distribution')\n",
    "plt.xlabel('Dimension 1')\n",
    "plt.ylabel('Dimension 2')\n",
    "plt.grid(True)\n",
    "plt.show()\n",
    "\n",
    "# WRC\n",
    "def compute_lambda(n, theta):\n",
    "    return 10 * (n + 1) * theta\n",
    "\n",
    "def generate_initial_solution(num_samples):\n",
    "    return [0.5 for _ in range(num_samples)]\n",
    "\n",
    "# epsilon_R = 3e-3\n",
    "# epsilon_P = 1e-3\n",
    "# epsilon_N = 2e-3\n",
    "\n",
    "def wide_reach_classification(X, y, theta, epsilon_R=1e-2, epsilon_P=1e-2, epsilon_N=1e-2):\n",
    "    # lambda_value = compute_lambda(len(y), theta)\n",
    "    lambda_value = (len(P) + 1) * 100\n",
    "    model = Model(\"Wide-Reach_Classification\")\n",
    "    # model.setParam(GRB.Param.TimeLimit, 120)  \n",
    "    # model.setParam(GRB.Param.MIPGap, 0.01)   \n",
    "    # model.setParam(GRB.Param.Heuristics, 0)\n",
    "    # model.setParam(GRB.Param.NodeMethod, 2)\n",
    "    num_features = X.shape[1]\n",
    "    num_samples = len(y)\n",
    "    w = model.addVars(num_features, vtype=GRB.CONTINUOUS, name=\"w\")\n",
    "    c = model.addVar(vtype=GRB.CONTINUOUS, name=\"c\")\n",
    "    x = model.addVars(num_samples, vtype=GRB.BINARY, name=\"x\")\n",
    "    y_vars = model.addVars(num_samples, vtype=GRB.BINARY, name=\"y\")\n",
    "    V = model.addVar(vtype=GRB.CONTINUOUS,  name=\"V\")\n",
    "\n",
    "    model.setObjective(\n",
    "        quicksum((x[i] if y[i] == 1 else 0) for i in range(num_samples)) - lambda_value * V,\n",
    "        GRB.MAXIMIZE\n",
    "    )\n",
    "    \n",
    "    model.addConstr(\n",
    "        V >= (theta - 1) * quicksum((x[i] if y[i] == 1 else 0) for i in range(num_samples)) +\n",
    "        theta * quicksum((y_vars[j] if y[j] == 0 else 0) for j in range(num_samples)) + theta * epsilon_R,\n",
    "        name=\"precision_constraint\"\n",
    "    )\n",
    "\n",
    "    for i in range(num_samples):\n",
    "        if y[i] == 1:  # P\n",
    "            model.addConstr(x[i] <= 1 + quicksum(w[k] * X[i, k] for k in range(num_features)) - c - epsilon_P, name=f\"classification_positive_{i}\")\n",
    "        else:  # N\n",
    "            model.addConstr(y_vars[i] >= quicksum(w[k] * X[i, k] for k in range(num_features)) - c + epsilon_N, name=f\"classification_negative_{i}\")\n",
    "    \n",
    "    model.optimize()\n",
    "    \n",
    "    if model.status == GRB.OPTIMAL or model.status == GRB.TIME_LIMIT:\n",
    "        solution_x = model.getAttr('x', x)\n",
    "        solution_y_vars = model.getAttr('x', y_vars)\n",
    "        return solution_x, solution_y_vars, w, c\n",
    "    else:\n",
    "        print(\"Model did not solve to optimality or time limit exceeded.\")\n",
    "        return None, None, None, None\n",
    "\n",
    "theta = 0.99 \n",
    "solution_x, solution_y_vars, w, c = wide_reach_classification(X, y, theta=theta)\n",
    "\n",
    "# if solution_x is not None and solution_y_vars is not None:\n",
    "#     plt.figure(figsize=(8, 6))\n",
    "#     plt.scatter(X_train[y_train == 1][:, 0], X_train[y_train == 1][:, 1], c='purple', label='Positive Samples', marker= '+')\n",
    "#     plt.scatter(X_train[y_train == 0][:, 0], X_train[y_train == 0][:, 1], c='cyan', label='Negative Samples', marker= 'x')\n",
    "#     plt.legend()\n",
    "#     plt.title('Wide-Reach Classification Results on Custom 2-Cluster Data')\n",
    "#     plt.xlabel('Dimension 1')\n",
    "#     plt.ylabel('Dimension 2')\n",
    "#     plt.grid(True)\n",
    "#     plt.show()\n",
    "# else:\n",
    "#     print(\"Failed to visualize due to optimization issues.\")"
   ]
  },
  {
   "cell_type": "code",
   "execution_count": null,
   "id": "a24ac8c3-768c-4dc5-a2e0-3b15f6ef7499",
   "metadata": {},
   "outputs": [],
   "source": [
    "l = [-0.0, -0.0, -0.0, -0.0, -0.0, -0.0, -0.0, -0.0, -0.0, -0.0, -0.0, -0.0, -0.0, -0.0, -0.0, -0.0, -0.0, -0.0, 1.0, -0.0, 1.0, -0.0, -0.0, -0.0, -0.0, -0.0, -0.0, -0.0, -0.0, -0.0, -0.0, -0.0, -0.0, -0.0, -0.0, -0.0, -0.0, -0.0, -0.0, -0.0, -0.0, -0.0, -0.0, -0.0, 1.0, -0.0, -0.0, -0.0, -0.0, -0.0, -0.0, -0.0, -0.0, -0.0, -0.0, -0.0, -0.0, -0.0, -0.0, -0.0, -0.0, -0.0, -0.0, -0.0, -0.0, -0.0, -0.0, -0.0, 1.0, 1.0, -0.0, -0.0, -0.0, -0.0, -0.0, -0.0, -0.0, -0.0, -0.0, -0.0, -0.0, -0.0, -0.0, -0.0, -0.0, 1.0, -0.0, -0.0, -0.0, -0.0, -0.0, -0.0, -0.0, -0.0, -0.0, -0.0, -0.0, -0.0, -0.0, -0.0, -0.0, -0.0, -0.0, -0.0, -0.0, -0.0, -0.0, -0.0, -0.0, -0.0, -0.0, -0.0, -0.0, -0.0, -0.0, -0.0, -0.0, -0.0, -0.0, -0.0, -0.0, -0.0, -0.0, -0.0, -0.0, -0.0, -0.0, -0.0, -0.0, -0.0, -0.0, -0.0, -0.0, -0.0, -0.0, -0.0, -0.0, -0.0, -0.0, -0.0, -0.0, -0.0, -0.0, -0.0, -0.0, 1.0, -0.0, -0.0, -0.0, -0.0, -0.0, -0.0, -0.0, -0.0, -0.0, -0.0, -0.0, -0.0, -0.0, -0.0, -0.0, -0.0, -0.0, -0.0, -0.0, -0.0, -0.0, -0.0, -0.0, -0.0, -0.0, -0.0, -0.0, -0.0, -0.0, -0.0, -0.0, -0.0, -0.0, -0.0, -0.0, -0.0, -0.0, -0.0, -0.0, -0.0, -0.0, -0.0, -0.0, -0.0, -0.0, -0.0, -0.0, -0.0, -0.0, -0.0, -0.0, -0.0, -0.0, -0.0, -0.0, -0.0, -0.0, -0.0, -0.0, -0.0, -0.0, -0.0, 1.0, -0.0, -0.0, -0.0, -0.0, -0.0, -0.0, -0.0, -0.0, -0.0, 0.0, -0.0, -0.0, -0.0, -0.0, -0.0, -0.0, -0.0, -0.0, -0.0, -0.0, -0.0, -0.0, -0.0, -0.0, -0.0, -0.0, -0.0, -0.0, -0.0, -0.0, -0.0, -0.0, -0.0, -0.0, -0.0, -0.0, -0.0, -0.0, -0.0, -0.0, -0.0, -0.0, -0.0, -0.0, -0.0, -0.0, -0.0, -0.0, -0.0, -0.0, -0.0, -0.0, -0.0, -0.0, -0.0, -0.0, -0.0, -0.0, -0.0, -0.0, -0.0, -0.0, -0.0, -0.0, -0.0, -0.0, -0.0, -0.0, -0.0, -0.0, -0.0, -0.0, -0.0, -0.0, -0.0, -0.0, -0.0, -0.0, -0.0, -0.0, -0.0, -0.0, -0.0, -0.0, -0.0, -0.0, -0.0, -0.0, -0.0, -0.0, -0.0, -0.0, -0.0, -0.0, -0.0, -0.0, -0.0, -0.0, 1.0, 1.0, -0.0, -0.0, -0.0, -0.0, 0.0, -0.0, -0.0, -0.0, -0.0, -0.0, -0.0, -0.0, -0.0, -0.0, -0.0, -0.0, -0.0, -0.0, -0.0, -0.0, -0.0, -0.0, -0.0, -0.0, -0.0, -0.0, -0.0, -0.0, -0.0, -0.0, -0.0, -0.0, -0.0, -0.0, -0.0, -0.0, -0.0, -0.0, -0.0, -0.0, -0.0, -0.0, -0.0, -0.0, -0.0, -0.0, -0.0, -0.0]"
   ]
  },
  {
   "cell_type": "code",
   "execution_count": null,
   "id": "184a6870-f420-44a6-bd2a-526c4420ee9b",
   "metadata": {},
   "outputs": [],
   "source": [
    "len(l)"
   ]
  },
  {
   "cell_type": "code",
   "execution_count": null,
   "id": "84d8babe-5a14-4a65-8558-7b19025d1a25",
   "metadata": {},
   "outputs": [],
   "source": [
    "sum(l)"
   ]
  },
  {
   "cell_type": "code",
   "execution_count": null,
   "id": "07046a63-0626-4dba-86bc-db11d6885a15",
   "metadata": {},
   "outputs": [],
   "source": [
    "import numpy as np\n",
    "import pandas as pd\n",
    "from gurobipy import Model, GRB\n",
    "from sklearn.preprocessing import StandardScaler\n",
    "\n",
    "def solve_wide_reach_classification(theta, P, N):\n",
    "    \"\"\"\n",
    "    Solves the wide-reach classification problem for given positive and negative samples.\n",
    "\n",
    "    Parameters:\n",
    "        theta (float): Precision threshold.\n",
    "        P (numpy.ndarray): Feature matrix of positive samples (n_positive, n_features).\n",
    "        N (numpy.ndarray): Feature matrix of negative samples (n_negative, n_features).\n",
    "\n",
    "    Returns:\n",
    "        dict: Contains the reach, hyperplane parameters, bias, and precision violation, or an error message.\n",
    "    \"\"\"\n",
    "    # Combine positive and negative samples for standardization\n",
    "    X = np.vstack((P, N))\n",
    "    \n",
    "\n",
    "    # Update indices for P and N after combining\n",
    "    num_positive = P.shape[0]\n",
    "    P_indices = range(num_positive)\n",
    "    N_indices = range(num_positive, X.shape[0])\n",
    "\n",
    "    # Parameters\n",
    "    epsilon_P = 0.01\n",
    "    epsilon_N = 0.01\n",
    "    epsilon_R = 0.001\n",
    "    lambda_param = (num_positive + 1) / theta\n",
    "\n",
    "    # Create the Gurobi model\n",
    "    model = Model(\"Wide-Reach Classification\")\n",
    "    model.setParam(\"TimeLimit\", 120)\n",
    "    model.setParam(\"OutputFlag\", 0)\n",
    "    model.setParam(\"MemLimit\", 4096)\n",
    "    # Decision variables\n",
    "    x = model.addVars(num_positive, vtype=GRB.BINARY, name=\"x\")\n",
    "    y = model.addVars(len(N_indices), vtype=GRB.BINARY, name=\"y\")\n",
    "    w = model.addVars(X.shape[1], lb=-GRB.INFINITY, name=\"w\")\n",
    "    c = model.addVar(lb=-GRB.INFINITY, name=\"c\")\n",
    "    V = model.addVar(lb=0, name=\"V\")\n",
    "\n",
    "    # Objective: Maximize the reach minus penalty for precision violation\n",
    "    model.setObjective(\n",
    "        sum(x[i] for i in P_indices) - lambda_param * V, GRB.MAXIMIZE\n",
    "    )\n",
    "\n",
    "    # Constraint: Precision constraint violation\n",
    "    model.addConstr(\n",
    "        V >= (theta - 1) * sum(x[i] for i in P_indices)\n",
    "        + theta * sum(y[j] for j in range(len(N_indices)))\n",
    "        + theta * epsilon_R,\n",
    "        \"PrecisionConstraint\"\n",
    "    )\n",
    "\n",
    "    # Constraints: Classification constraints for positive samples\n",
    "    for i, p_idx in enumerate(P_indices):\n",
    "        model.addConstr(\n",
    "            x[i] <= 1 + sum(w[d] * X[p_idx, d] for d in range(X.shape[1])) - c - epsilon_P,\n",
    "            name=f\"Positive_{i}\"\n",
    "        )\n",
    "\n",
    "    # Constraints: Classification constraints for negative samples\n",
    "    for j, n_idx in enumerate(N_indices):\n",
    "        model.addConstr(\n",
    "            y[j] >= sum(w[d] * X[n_idx, d] for d in range(X.shape[1])) - c + epsilon_N,\n",
    "            name=f\"Negative_{j}\"\n",
    "        )\n",
    "\n",
    "    # Solve the model\n",
    "    model.optimize()\n",
    "\n",
    "    # Check and return results\n",
    "    if model.status == GRB.OPTIMAL or model.status == GRB.TIME_LIMIT:\n",
    "        results = {\n",
    "            \"Reach\": sum(x[i].x for i in P_indices),\n",
    "            \"Hyperplane w\": [w[d].x for d in range(X.shape[1])],\n",
    "            \"Bias c\": c.x,\n",
    "            \"X\": [x[d].x for d in range(len(P))],\n",
    "            \"Y\": [y[d].x for d in range(len(N))],\n",
    "            \"Precision Violation V\": V.x,\n",
    "            \"Node Count\" : model.NodeCount\n",
    "        }\n",
    "        return results\n",
    "    else:\n",
    "        return {\"Error\": \"No optimal solution found.\"}\n"
   ]
  },
  {
   "cell_type": "code",
   "execution_count": null,
   "id": "5385b9a9-ad4e-488c-94cd-513641afeb4c",
   "metadata": {},
   "outputs": [],
   "source": [
    "from docplex.mp.model import Model\n",
    "from sklearn.preprocessing import StandardScaler\n",
    "import numpy as np\n",
    "\n",
    "\n",
    "def cpss(theta, P, N):\n",
    "    \"\"\"\n",
    "    Solves the wide-reach classification problem using DOcplex for given positive and negative samples.\n",
    "\n",
    "    Parameters:\n",
    "        theta (float): Precision threshold.\n",
    "        P (numpy.ndarray): Feature matrix of positive samples (n_positive, n_features).\n",
    "        N (numpy.ndarray): Feature matrix of negative samples (n_negative, n_features).\n",
    "\n",
    "    Returns:\n",
    "        dict: Contains the reach, hyperplane parameters, bias, and precision violation, or an error message.\n",
    "    \"\"\"\n",
    "    # Combine positive and negative samples for standardization\n",
    "    X = np.vstack((P, N))\n",
    "    \n",
    "\n",
    "    # Update indices for P and N after combining\n",
    "    num_positive = P.shape[0]\n",
    "    P_indices = range(num_positive)\n",
    "    N_indices = range(num_positive, X.shape[0])\n",
    "\n",
    "    # Parameters\n",
    "    epsilon_P = 0.01\n",
    "    epsilon_N = 0.01\n",
    "    epsilon_R = 0.001\n",
    "    lambda_param = (num_positive + 1) / theta\n",
    "\n",
    "    # Create the DOcplex model\n",
    "    model = Model(name=\"Wide-Reach Classification\")\n",
    "\n",
    "    model.set_log_output(None)\n",
    "\n",
    "\n",
    "    model.set_time_limit(120)\n",
    "\n",
    "    model.parameters.workmem = 4096\n",
    "\n",
    "    # Decision variables\n",
    "    x = model.binary_var_list(num_positive, name=\"x\")\n",
    "    y = model.binary_var_list(len(N_indices), name=\"y\")\n",
    "    w = model.continuous_var_list(X.shape[1], lb=-model.infinity, name=\"w\")\n",
    "    c = model.continuous_var(lb=-model.infinity, name=\"c\")\n",
    "    V = model.continuous_var(lb=0, name=\"V\")\n",
    "\n",
    "    # Objective: Maximize the reach minus penalty for precision violation\n",
    "    model.maximize(\n",
    "        model.sum(x[i] for i in P_indices) - lambda_param * V\n",
    "    )\n",
    "\n",
    "    # Constraint: Precision constraint violation\n",
    "    model.add_constraint(\n",
    "        V >= (theta - 1) * model.sum(x[i] for i in P_indices)\n",
    "        + theta * model.sum(y[j] for j in range(len(N_indices)))\n",
    "        + theta * epsilon_R,\n",
    "        ctname=\"PrecisionConstraint\"\n",
    "    )\n",
    "\n",
    "    # Constraints: Classification constraints for positive samples\n",
    "    for i, p_idx in enumerate(P_indices):\n",
    "        model.add_constraint(\n",
    "            x[i] <= 1 + model.sum(w[d] * X[p_idx, d] for d in range(X.shape[1])) - c - epsilon_P,\n",
    "            ctname=f\"Positive_{i}\"\n",
    "        )\n",
    "\n",
    "    # Constraints: Classification constraints for negative samples\n",
    "    for j, n_idx in enumerate(N_indices):\n",
    "        model.add_constraint(\n",
    "            y[j] >= model.sum(w[d] * X[n_idx, d] for d in range(X.shape[1])) - c + epsilon_N,\n",
    "            ctname=f\"Negative_{j}\"\n",
    "        )\n",
    "\n",
    "    # Solve the model\n",
    "    solution = model.solve(log_output=True)\n",
    "\n",
    "    # Check and return results\n",
    "    if solution:\n",
    "        results = {\n",
    "            \"Reach\": sum(solution.get_value(x[i]) for i in P_indices),\n",
    "            \"Hyperplane w\": [solution.get_value(w[d]) for d in range(X.shape[1])],\n",
    "            \"Bias c\": solution.get_value(c),\n",
    "            \"X\": [solution.get_value(x[d]) for d in range(len(P))],\n",
    "            \"Y\": [solution.get_value(y[d]) for d in range(len(N))],\n",
    "            \"Precision Violation V\": solution.get_value(V),\n",
    "            \"Node Count\": model.get_solve_details().nb_nodes_processed\n",
    "\n",
    "        }\n",
    "        return results\n",
    "    else:\n",
    "        return {\"Error\": \"No optimal solution found.\"}\n"
   ]
  },
  {
   "cell_type": "code",
   "execution_count": null,
   "id": "c9f6db52-47a3-42c6-b8c6-349269822998",
   "metadata": {},
   "outputs": [],
   "source": []
  },
  {
   "cell_type": "code",
   "execution_count": null,
   "id": "93966080-9f79-40b7-af56-4ea54abd976e",
   "metadata": {},
   "outputs": [],
   "source": [
    "xx = []"
   ]
  },
  {
   "cell_type": "code",
   "execution_count": null,
   "id": "a51a1a0b-9f2c-442d-b390-66898e084d6d",
   "metadata": {},
   "outputs": [],
   "source": [
    "for idx, dataset in enumerate(ls):\n",
    "    print(idx)\n",
    "    P, N = dataset.generate()\n",
    "    t0, t1, t, l = dataset.params()\n",
    "    res = solve_wide_reach_classification(t, P, N)\n",
    "    # print(res)\n",
    "    xx.append(res)\n",
    "    # break\n",
    "    "
   ]
  },
  {
   "cell_type": "code",
   "execution_count": null,
   "id": "3e994dd4-db9c-4cb6-852f-6b8a0ce6c3c8",
   "metadata": {},
   "outputs": [],
   "source": [
    "for res in xx:\n",
    "    print(res['Reach'], res['Node Count'])"
   ]
  },
  {
   "cell_type": "code",
   "execution_count": null,
   "id": "2ded980a-6e76-406c-b80c-ce9407bd6939",
   "metadata": {},
   "outputs": [],
   "source": [
    "yy = []"
   ]
  },
  {
   "cell_type": "code",
   "execution_count": null,
   "id": "941a1d4a-a90d-4f1c-8d47-9ed752ab5fc5",
   "metadata": {},
   "outputs": [],
   "source": [
    "for idx, dataset in enumerate(sds):\n",
    "    print(idx)\n",
    "    P, N = dataset.generate()\n",
    "    t0, t1, t, l = dataset.params()\n",
    "    res = cpss(t, P, N)\n",
    "    # print(res)\n",
    "    yy.append(res)\n",
    "    # break\n",
    "    "
   ]
  },
  {
   "cell_type": "code",
   "execution_count": null,
   "id": "724f2e1b-dd26-4dfd-91e6-8bbdd1e5481a",
   "metadata": {},
   "outputs": [],
   "source": [
    "for res in yy:\n",
    "    print(res['Reach'], res['Node Count'])"
   ]
  },
  {
   "cell_type": "code",
   "execution_count": 13,
   "id": "c09f1268-0faa-42a5-b0c4-141baa363b1d",
   "metadata": {},
   "outputs": [
    {
     "name": "stdout",
     "output_type": "stream",
     "text": [
      "{'multivariate_normal': {'2': {'sigma': 1, 'r': 1, 'density': 0.3183098861837907, 's': 1}, '3': {'sigma': 1, 'r': 1, 'density': 0.23873241463784303, 's': 1}}}\n"
     ]
    }
   ],
   "source": [
    "import math\n",
    "from scipy.stats import rayleigh, maxwell\n",
    "\n",
    "def calculate_params(P, N, d=11, f=8, s=1):\n",
    "    \"\"\"\n",
    "    Calculate parameters for the prism and multivariate normal models.\n",
    "\n",
    "    Parameters:\n",
    "        P (int): Number of positive samples.\n",
    "        N (int): Number of negative samples.\n",
    "        d (int): Dimension (default: 11).\n",
    "        f (float): Ratio of negatives to positives (default: 8).\n",
    "        s (float): Maximum length constraint for the positives (default: 1).\n",
    "\n",
    "    Returns:\n",
    "        dict: Dictionary containing calculated parameters.\n",
    "    \"\"\"\n",
    "    results = {}   \n",
    "\n",
    "    # Multivariate normal calculations (d0 = 2 and d0 = 3)\n",
    "    def rayleigh_cdf(r, sigma):\n",
    "        return rayleigh.cdf(r, scale=sigma)\n",
    "\n",
    "    def maxwell_cdf(r, sigma):\n",
    "        return maxwell.cdf(r, scale=sigma)\n",
    "\n",
    "    # Calculate r for d0 = 2\n",
    "    def calculate_r_d0_2(sigma, f, N, P):\n",
    "        pdf_val = rayleigh.pdf(1, sigma)\n",
    "        if pdf_val == 0:\n",
    "            return s  # Return max constraint if division is invalid\n",
    "        r = math.sqrt((4 * f * P * rayleigh.cdf(s, sigma)) / (math.pi * N * pdf_val))\n",
    "        return min(r, s)  # Ensure r <= s\n",
    "\n",
    "    # Calculate r for d0 = 3\n",
    "    def calculate_r_d0_3(sigma, f, N, P):\n",
    "        pdf_val = maxwell.pdf(1, sigma)\n",
    "        if pdf_val == 0:\n",
    "            return s  # Return max constraint if division is invalid\n",
    "        r = ((6 * f * P * maxwell.cdf(s, sigma)) / (math.pi * N * pdf_val))**(1/3)\n",
    "        return min(r, s)  # Ensure r <= s\n",
    "\n",
    "    sigma_2 = 1  # Initialize sigma for d0 = 2\n",
    "    sigma_3 = 1  # Initialize sigma for d0 = 3\n",
    "\n",
    "    r_2 = calculate_r_d0_2(sigma_2, f, N, P)\n",
    "    r_3 = calculate_r_d0_3(sigma_3, f, N, P)\n",
    "\n",
    "    results['multivariate_normal'] = {\n",
    "        '2': {\n",
    "            'sigma': sigma_2,\n",
    "            'r': r_2,\n",
    "            'density': (rayleigh_cdf(r_2, sigma_2) / rayleigh_cdf(1, sigma_2)) / (math.pi * r_2**2) if r_2 > 0 else None,\n",
    "            's': s\n",
    "        },\n",
    "        '3': {\n",
    "            'sigma': sigma_3,\n",
    "            'r': r_3,\n",
    "            'density': (maxwell_cdf(r_3, sigma_3) / maxwell_cdf(1, sigma_3)) / ((4 / 3) * math.pi * r_3**3) if r_3 > 0 else None,\n",
    "            's': s\n",
    "        },\n",
    "    }\n",
    "\n",
    "    return results\n",
    "\n",
    "# Example usage:\n",
    "P = 100  # Number of positive samples\n",
    "N = 3200  # Number of negative samples\n",
    "params = calculate_params(P, N)\n",
    "print(params)\n"
   ]
  },
  {
   "cell_type": "code",
   "execution_count": 14,
   "id": "ab2c5bb9-08b0-42db-bff2-67742aa61a9a",
   "metadata": {},
   "outputs": [
    {
     "data": {
      "image/png": "[encoded data removed]",
      "text/plain": [
       "<Figure size 800x800 with 1 Axes>"
      ]
     },
     "metadata": {},
     "output_type": "display_data"
    },
    {
     "name": "stdout",
     "output_type": "stream",
     "text": [
      "Number of positive samples generated: 12\n",
      "Number of negative samples generated: 388\n"
     ]
    }
   ],
   "source": [
    "import numpy as np\n",
    "import matplotlib.pyplot as plt\n",
    "from scipy.stats import rayleigh\n",
    "\n",
    "params = calculate_params(P, N)\n",
    "\n",
    "\n",
    "P_size = 400 // 33\n",
    "N_size = 400 - P_size\n",
    "d = 11\n",
    "d0 = 2\n",
    "s = 1\n",
    "r = params['multivariate_normal'][str(d0)]['r']\n",
    "sigma = params['multivariate_normal'][str(d0)]['sigma']\n",
    "# sigma = 0.3\n",
    "\n",
    "def generate_positive_samples(P_size, d, d0, sigma, r):\n",
    "    samples = []\n",
    "    while len(samples) < P_size:\n",
    "        point = np.random.normal(loc=0, scale=sigma, size=d0)\n",
    "        length = np.linalg.norm(point, ord=1)\n",
    "        if length <= r and np.all(point >= 0):\n",
    "            full_point = np.zeros(d)\n",
    "            full_point[:d0] = point\n",
    "            samples.append(full_point)\n",
    "    return np.array(samples)\n",
    "\n",
    "def generate_negative_samples(N_size, d, d0, s):\n",
    "    samples = []\n",
    "    while len(samples) < N_size:\n",
    "        point = np.random.uniform(low=0, high=s, size=d0)\n",
    "        if np.sum(point) <= s:\n",
    "            full_point = np.zeros(d)\n",
    "            full_point[:d0] = point\n",
    "            samples.append(full_point)\n",
    "    return np.array(samples)\n",
    "\n",
    "P = generate_positive_samples(P_size, d, d0, sigma, r)\n",
    "N = generate_negative_samples(N_size, d, d0, s)\n",
    "\n",
    "x_pos, y_pos = P[:, 0], P[:, 1]\n",
    "x_neg, y_neg = N[:, 0], N[:, 1]\n",
    "\n",
    "plt.figure(figsize=(8, 8))\n",
    "plt.scatter(x_pos, y_pos, color='blue', alpha=0.6, label='Positive Samples', s=10)\n",
    "plt.scatter(x_neg, y_neg, color='red', alpha=0.3, label='Negative Samples', s=10)\n",
    "\n",
    "circle = plt.Circle((0, 0), r, color='green', alpha=0.05, label='Radius Constraint')\n",
    "plt.gca().add_artist(circle)\n",
    "\n",
    "plt.title(f'Synthetic Dataset (d0={d0} Visualization)')\n",
    "plt.xlabel('X-axis')\n",
    "plt.ylabel('Y-axis')\n",
    "plt.legend()\n",
    "plt.axis('equal')\n",
    "plt.grid(True)\n",
    "plt.show()\n",
    "\n",
    "print(f\"Number of positive samples generated: {len(P)}\")\n",
    "print(f\"Number of negative samples generated: {len(N)}\")\n"
   ]
  },
  {
   "cell_type": "code",
   "execution_count": null,
   "id": "6ff71b3b-077b-4ab0-b611-9cc966eea775",
   "metadata": {},
   "outputs": [],
   "source": []
  }
 ],
 "metadata": {
  "kernelspec": {
   "display_name": "Python 3 (ipykernel)",
   "language": "python",
   "name": "python3"
  },
  "language_info": {
   "codemirror_mode": {
    "name": "ipython",
    "version": 3
   },
   "file_extension": ".py",
   "mimetype": "text/x-python",
   "name": "python",
   "nbconvert_exporter": "python",
   "pygments_lexer": "ipython3",
   "version": "3.9.21"
  }
 },
 "nbformat": 4,
 "nbformat_minor": 5
}
