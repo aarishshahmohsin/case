{
 "cells": [
  {
   "cell_type": "code",
   "execution_count": 1,
   "id": "7b38e285-7e16-4a89-9012-d0f3bfe335c9",
   "metadata": {},
   "outputs": [],
   "source": [
    "from real_datasets import BreastCancerDataset, WineQualityRedDataset, WineQualityWhiteDataset, SouthGermanCreditDataset, CropMappingDataset"
   ]
  },
  {
   "cell_type": "code",
   "execution_count": 2,
   "id": "8f9a2289-e703-41f3-aa1c-545a657effd3",
   "metadata": {},
   "outputs": [],
   "source": [
    "from solvers import GurobiSolver"
   ]
  },
  {
   "cell_type": "code",
   "execution_count": 3,
   "id": "9d324c84-2288-4010-b9a7-cc6d9358a42a",
   "metadata": {},
   "outputs": [],
   "source": [
    "bc = BreastCancerDataset()\n",
    "wqr = WineQualityRedDataset()\n",
    "wqw = WineQualityWhiteDataset()\n",
    "sgc = SouthGermanCreditDataset()\n",
    "cm = CropMappingDataset()"
   ]
  },
  {
   "cell_type": "code",
   "execution_count": 4,
   "id": "d90ee702-e5c7-435b-ae5f-41f3e329a3c5",
   "metadata": {},
   "outputs": [],
   "source": [
    "# ls = [bc, wqr, wqw, sgc, cm]\n",
    "ls = [cm]"
   ]
  },
  {
   "cell_type": "code",
   "execution_count": 5,
   "id": "21cd2308-0ccc-4506-8fe3-221ac7d8dd37",
   "metadata": {},
   "outputs": [],
   "source": [
    "final_res = []"
   ]
  },
  {
   "cell_type": "code",
   "execution_count": 6,
   "id": "e6bb0f6f-abab-4f98-a4e3-6a8ff533352d",
   "metadata": {},
   "outputs": [
    {
     "name": "stdout",
     "output_type": "stream",
     "text": [
      "0\n",
      "Set parameter LicenseID to value 2604237\n"
     ]
    }
   ],
   "source": [
    "for idx, dataset in enumerate(ls):\n",
    "    print(idx)\n",
    "    P, N = dataset.generate()\n",
    "    t0, t1, t, l = dataset.params()\n",
    "    gb = GurobiSolver(P=P, N=N, theta=t, lambda_param=l)\n",
    "    reach, nodes, _ = gb.solve()\n",
    "    final_res.append((reach, nodes))"
   ]
  },
  {
   "cell_type": "code",
   "execution_count": 7,
   "id": "de82eed1-5505-4133-94cc-192f9afcd51f",
   "metadata": {},
   "outputs": [
    {
     "data": {
      "text/plain": [
       "[(2674, 1)]"
      ]
     },
     "execution_count": 7,
     "metadata": {},
     "output_type": "execute_result"
    }
   ],
   "source": [
    "final_res"
   ]
  },
  {
   "cell_type": "code",
   "execution_count": null,
   "id": "c3d411ed-47b6-4b9b-ae97-b1bcd789c5db",
   "metadata": {},
   "outputs": [],
   "source": []
  }
 ],
 "metadata": {
  "kernelspec": {
   "display_name": "Python 3 (ipykernel)",
   "language": "python",
   "name": "python3"
  },
  "language_info": {
   "codemirror_mode": {
    "name": "ipython",
    "version": 3
   },
   "file_extension": ".py",
   "mimetype": "text/x-python",
   "name": "python",
   "nbconvert_exporter": "python",
   "pygments_lexer": "ipython3",
   "version": "3.9.21"
  }
 },
 "nbformat": 4,
 "nbformat_minor": 5
}
