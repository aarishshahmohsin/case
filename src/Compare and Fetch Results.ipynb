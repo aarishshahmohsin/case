{
 "cells": [
  {
   "cell_type": "code",
   "execution_count": 1,
   "id": "7b38e285-7e16-4a89-9012-d0f3bfe335c9",
   "metadata": {},
   "outputs": [],
   "source": [
    "from real_datasets import BreastCancerDataset, WineQualityRedDataset, WineQualityWhiteDataset, SouthGermanCreditDataset, CropMappingDataset"
   ]
  },
  {
   "cell_type": "code",
   "execution_count": 1,
   "id": "8f9a2289-e703-41f3-aa1c-545a657effd3",
   "metadata": {},
   "outputs": [],
   "source": [
    "from solvers import GurobiSolver, CplexSolver"
   ]
  },
  {
   "cell_type": "code",
   "execution_count": 3,
   "id": "9d324c84-2288-4010-b9a7-cc6d9358a42a",
   "metadata": {},
   "outputs": [],
   "source": [
    "bc = BreastCancerDataset()\n",
    "wqr = WineQualityRedDataset()\n",
    "wqw = WineQualityWhiteDataset()\n",
    "sgc = SouthGermanCreditDataset()\n",
    "cm = CropMappingDataset()"
   ]
  },
  {
   "cell_type": "code",
   "execution_count": 4,
   "id": "d90ee702-e5c7-435b-ae5f-41f3e329a3c5",
   "metadata": {},
   "outputs": [],
   "source": [
    "ls = [bc, wqr, wqw, sgc, cm]\n",
    "# ls = [bc]\n",
    "# ls = [cm]"
   ]
  },
  {
   "cell_type": "code",
   "execution_count": 5,
   "id": "21cd2308-0ccc-4506-8fe3-221ac7d8dd37",
   "metadata": {},
   "outputs": [],
   "source": [
    "final_res = []"
   ]
  },
  {
   "cell_type": "code",
   "execution_count": 7,
   "id": "e6bb0f6f-abab-4f98-a4e3-6a8ff533352d",
   "metadata": {},
   "outputs": [
    {
     "name": "stdout",
     "output_type": "stream",
     "text": [
      "0\n",
      "Set parameter LicenseID to value 2604237\n",
      "Solver status: 101 (integer optimal solution)\n",
      "[([357, 27759], [357, 0])]\n",
      "1\n",
      "Solver status: 101 (integer optimal solution)\n",
      "[([357, 27759], [357, 0]), ([18, 503], [18, 0])]\n",
      "2\n",
      "Solver status: 101 (integer optimal solution)\n",
      "[([357, 27759], [357, 0]), ([18, 503], [18, 0]), ([180, 1829], [180, 0])]\n",
      "3\n",
      "Solver status: 101 (integer optimal solution)\n",
      "[([357, 27759], [357, 0]), ([18, 503], [18, 0]), ([180, 1829], [180, 0]), ([700, 21198], [700, 0])]\n",
      "4\n",
      "Solver status: 101 (integer optimal solution)\n",
      "[([357, 27759], [357, 0]), ([18, 503], [18, 0]), ([180, 1829], [180, 0]), ([700, 21198], [700, 0]), ([2674, 1], [2674, 0])]\n"
     ]
    }
   ],
   "source": [
    "for idx, dataset in enumerate(ls):\n",
    "    print(idx)\n",
    "    P, N = dataset.generate()\n",
    "    t0, t1, t, l = dataset.params()\n",
    "    gb = GurobiSolver(P=P, N=N, theta=t, lambda_param=l)\n",
    "    gb_obj, gb_nodes, _ = gb.solve()\n",
    "    cp = CplexSolver(P=P, N=N, theta=t, lambda_param=l)\n",
    "    cp_obj, cp_nodes, _ = cp.solve()\n",
    "    final_res.append(([gb_obj, gb_nodes], [cp_obj, cp_nodes]))\n",
    "    print(final_res)"
   ]
  },
  {
   "cell_type": "code",
   "execution_count": 8,
   "id": "de82eed1-5505-4133-94cc-192f9afcd51f",
   "metadata": {},
   "outputs": [
    {
     "data": {
      "text/plain": [
       "[([357, 27759], [357, 0]),\n",
       " ([18, 503], [18, 0]),\n",
       " ([180, 1829], [180, 0]),\n",
       " ([700, 21198], [700, 0]),\n",
       " ([2674, 1], [2674, 0])]"
      ]
     },
     "execution_count": 8,
     "metadata": {},
     "output_type": "execute_result"
    }
   ],
   "source": [
    "final_res"
   ]
  },
  {
   "cell_type": "code",
   "execution_count": 3,
   "id": "1558add5-0a38-4ca5-913a-9a77e89455ae",
   "metadata": {},
   "outputs": [],
   "source": [
    "from synthetic_datasets import ClusterDataset, TwoClusterDataset, DiffusedBenchmark, PrismDataset"
   ]
  },
  {
   "cell_type": "code",
   "execution_count": 4,
   "id": "94313c14-1e23-4035-967a-68205d51b64e",
   "metadata": {},
   "outputs": [
    {
     "name": "stdout",
     "output_type": "stream",
     "text": [
      "2\n",
      "0.703452458112659\n",
      "0.703452458112659\n"
     ]
    }
   ],
   "source": [
    "cd = ClusterDataset()\n",
    "tc = ClusterDataset() \n",
    "db = DiffusedBenchmark() \n",
    "pd = PrismDataset()"
   ]
  },
  {
   "cell_type": "code",
   "execution_count": 4,
   "id": "04db5769-813c-4bdb-a758-6310a7915d41",
   "metadata": {},
   "outputs": [],
   "source": [
    "sds = [cd, tc, db, pd]"
   ]
  },
  {
   "cell_type": "code",
   "execution_count": 5,
   "id": "e071a7f8-a8e8-4e0f-9822-d2a40d1792a3",
   "metadata": {},
   "outputs": [],
   "source": [
    "sy_final_res = []"
   ]
  },
  {
   "cell_type": "code",
   "execution_count": 6,
   "id": "25f8f9c1-2f94-404f-a29e-67fe07911a1b",
   "metadata": {},
   "outputs": [
    {
     "name": "stdout",
     "output_type": "stream",
     "text": [
      "0\n",
      "Set parameter LicenseID to value 2604237\n",
      "[([80, 255], [80, 0])]\n",
      "1\n",
      "[([80, 255], [80, 0]), ([80, 531], [80, 0])]\n",
      "2\n",
      "[([80, 255], [80, 0]), ([80, 531], [80, 0]), ([200, 8818], [200, 0])]\n",
      "3\n",
      "[([80, 255], [80, 0]), ([80, 531], [80, 0]), ([200, 8818], [200, 0]), ([12, 30], [12, 0])]\n"
     ]
    }
   ],
   "source": [
    "for idx, dataset in enumerate(sds):\n",
    "    print(idx)\n",
    "    P, N = dataset.generate()\n",
    "    t0, t1, t, l = dataset.params()\n",
    "    gb = GurobiSolver(P=P, N=N, theta=t, lambda_param=l)\n",
    "    gb_obj, gb_nodes, _ = gb.solve()\n",
    "    cp = CplexSolver(P=P, N=N, theta=t, lambda_param=l)\n",
    "    cp_obj, cp_nodes, _ = cp.solve()\n",
    "    sy_final_res.append(([gb_obj, gb_nodes], [cp_obj, cp_nodes]))\n",
    "    print(sy_final_res)"
   ]
  },
  {
   "cell_type": "code",
   "execution_count": 7,
   "id": "f7e3ac47-d973-403c-9077-e244ef338f8d",
   "metadata": {},
   "outputs": [
    {
     "data": {
      "text/plain": [
       "[([80, 255], [80, 0]),\n",
       " ([80, 531], [80, 0]),\n",
       " ([200, 8818], [200, 0]),\n",
       " ([12, 30], [12, 0])]"
      ]
     },
     "execution_count": 7,
     "metadata": {},
     "output_type": "execute_result"
    }
   ],
   "source": [
    "sy_final_res"
   ]
  },
  {
   "cell_type": "code",
   "execution_count": 5,
   "id": "e03c6161-39d3-48ea-bc5e-69a9210d0b6d",
   "metadata": {},
   "outputs": [],
   "source": [
    "import numpy as np\n",
    "import matplotlib.pyplot as plt"
   ]
  },
  {
   "cell_type": "code",
   "execution_count": 6,
   "id": "6e2ffef3-afe5-4263-9a8b-fc5cd749ebab",
   "metadata": {},
   "outputs": [],
   "source": [
    "from utils import plot_P_N"
   ]
  },
  {
   "cell_type": "code",
   "execution_count": 7,
   "id": "1894d673-2733-4f17-8f11-f719173b3ba4",
   "metadata": {},
   "outputs": [],
   "source": [
    "P, N = pd.generate()"
   ]
  },
  {
   "cell_type": "code",
   "execution_count": 8,
   "id": "0849c739-7482-4267-b9fe-355dc3b545ef",
   "metadata": {},
   "outputs": [
    {
     "data": {
      "image/png": "[encoded data removed]",
      "text/plain": [
       "<Figure size 400x400 with 1 Axes>"
      ]
     },
     "metadata": {},
     "output_type": "display_data"
    }
   ],
   "source": [
    "plot_P_N(P, N)"
   ]
  }
 ],
 "metadata": {
  "kernelspec": {
   "display_name": "Python 3 (ipykernel)",
   "language": "python",
   "name": "python3"
  },
  "language_info": {
   "codemirror_mode": {
    "name": "ipython",
    "version": 3
   },
   "file_extension": ".py",
   "mimetype": "text/x-python",
   "name": "python",
   "nbconvert_exporter": "python",
   "pygments_lexer": "ipython3",
   "version": "3.9.21"
  }
 },
 "nbformat": 4,
 "nbformat_minor": 5
}
