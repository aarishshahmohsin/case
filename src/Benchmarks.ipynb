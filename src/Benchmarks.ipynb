{
 "cells": [
  {
   "cell_type": "code",
   "execution_count": 7,
   "id": "fd1c21f2-d582-4300-b0e8-42bdcdfa4c5b",
   "metadata": {},
   "outputs": [],
   "source": [
    "from real_datasets import BreastCancerDataset, WineQualityRedDataset, WineQualityWhiteDataset, SouthGermanCreditDataset, CropMappingDataset"
   ]
  },
  {
   "cell_type": "code",
   "execution_count": 8,
   "id": "1493d709-4edd-493f-aaaf-55390d4f275c",
   "metadata": {},
   "outputs": [],
   "source": [
    "from synthetic_datasets import ClusterDataset, TwoClusterDataset, DiffusedBenchmark, PrismDataset, L1PrismDataset"
   ]
  },
  {
   "cell_type": "code",
   "execution_count": 9,
   "id": "1e541438-b1c3-490d-96f4-60812754a513",
   "metadata": {},
   "outputs": [],
   "source": [
    "from solvers import gurobi_solver, cplex_solver"
   ]
  },
  {
   "cell_type": "code",
   "execution_count": 10,
   "id": "80868065-fe4f-43c4-b95a-b4fdb421d954",
   "metadata": {},
   "outputs": [
    {
     "name": "stdout",
     "output_type": "stream",
     "text": [
      "2\n"
     ]
    }
   ],
   "source": [
    "datasets = {\n",
    "    \"Breast Cancer\": BreastCancerDataset(),\n",
    "    \"Wine Quality Red\": WineQualityRedDataset(),\n",
    "    \"Wine Quality White\": WineQualityWhiteDataset(),\n",
    "    \"South German Credit\": SouthGermanCreditDataset(),\n",
    "    \"Crop Mapping\": CropMappingDataset(),\n",
    "    \"Cluster\": ClusterDataset(),\n",
    "    \"Two Cluster\": TwoClusterDataset(),\n",
    "    \"Diffused Benchmark\": DiffusedBenchmark(),\n",
    "    \"Prism\": PrismDataset(),\n",
    "    \"L1 Prism\": L1PrismDataset(),\n",
    "}"
   ]
  },
  {
   "cell_type": "code",
   "execution_count": 5,
   "id": "3950ee77-2247-4a56-a148-e4154dd59f55",
   "metadata": {},
   "outputs": [],
   "source": [
    "times = 10"
   ]
  },
  {
   "cell_type": "code",
   "execution_count": 6,
   "id": "3016a757-1d45-45e2-8e9e-f1624f9060a0",
   "metadata": {},
   "outputs": [],
   "source": [
    "results = {}"
   ]
  },
  {
   "cell_type": "code",
   "execution_count": 1,
   "id": "8a9a6970-aa87-4685-bfc4-c29deebe1c0a",
   "metadata": {},
   "outputs": [],
   "source": [
    "for dataset_name, dataset in datasets.items():\n",
    "    P, N = dataset.generate()\n",
    "    t0, t1, t, l = dataset.params()\n",
    "    final_res = []\n",
    "    for i in range(times):\n",
    "        print(i)\n",
    "        res_gurobi = gurobi_solver(theta=t, P=P, N=N, lambda_param=l)\n",
    "        res_cplex = cplex_solver(theta=t, P=P, N=N, lambda_param=l)\n",
    "        final_res.append([res_gurobi, res_cplex])\n",
    "    results[dataset_name] = final_res\n",
    "    "
   ]
  },
  {
   "cell_type": "code",
   "execution_count": 8,
   "id": "0af1bc05-79a9-42d7-8f3d-69ff795084bb",
   "metadata": {},
   "outputs": [],
   "source": [
    "# results"
   ]
  },
  {
   "cell_type": "code",
   "execution_count": 9,
   "id": "08d2d119-9ea8-46f6-932c-ee800b7a5096",
   "metadata": {},
   "outputs": [
    {
     "name": "stdout",
     "output_type": "stream",
     "text": [
      "Breast Cancer\n",
      "Wine Quality Red\n",
      "Wine Quality White\n",
      "South German Credit\n",
      "Crop Mapping\n",
      "Cluster\n",
      "Two Cluster\n",
      "Diffused Benchmark\n",
      "Prism\n",
      "L1 Prism\n"
     ]
    }
   ],
   "source": [
    "for name, res in results.items():\n",
    "    print(name)"
   ]
  },
  {
   "cell_type": "code",
   "execution_count": 2,
   "id": "b13f0541-8b23-44d5-8ca3-2f6b423bfa40",
   "metadata": {},
   "outputs": [],
   "source": [
    "import pandas as pd"
   ]
  },
  {
   "cell_type": "code",
   "execution_count": 11,
   "id": "55672d63-c7fc-400c-a4d9-c70a00ef8140",
   "metadata": {},
   "outputs": [],
   "source": [
    "new_ar = {\"dataset\": [], \"gurobi_reach\": [], \"gurobi_nodes\": [], \"gurobi_time\": [], \"cplex_reach\": [], \"cplex_nodes\": [], \"cplex_time\": [],}"
   ]
  },
  {
   "cell_type": "code",
   "execution_count": 12,
   "id": "ea72ad43-3aa7-4031-be0c-7ae351520f8c",
   "metadata": {},
   "outputs": [],
   "source": [
    "for name, res in results.items():\n",
    "    for subres in res:\n",
    "        res_g = subres[0]\n",
    "        res_c = subres[1]\n",
    "        new_ar['dataset'].append(name)\n",
    "        new_ar['gurobi_reach'].append(res_g['Reach'])\n",
    "        new_ar['gurobi_nodes'].append(res_g['Node Count'])\n",
    "        new_ar['gurobi_time'].append(res_g['Time taken'])\n",
    "        new_ar['cplex_nodes'].append(res_c['Node Count'])\n",
    "        new_ar['cplex_reach'].append(res_c['Reach'])\n",
    "        new_ar['cplex_time'].append(res_c['Time taken'])"
   ]
  },
  {
   "cell_type": "code",
   "execution_count": 13,
   "id": "17b4304b-31fd-4332-a7be-161bb55b3a65",
   "metadata": {},
   "outputs": [],
   "source": [
    "# new_ar"
   ]
  },
  {
   "cell_type": "code",
   "execution_count": 14,
   "id": "4c07e74d-e3a4-4794-adee-88bcb32f3407",
   "metadata": {},
   "outputs": [],
   "source": [
    "n = pd.DataFrame(new_ar)"
   ]
  },
  {
   "cell_type": "code",
   "execution_count": 15,
   "id": "a55e0484-dbbc-4411-a67a-a7846a88c2be",
   "metadata": {},
   "outputs": [],
   "source": [
    "n.to_csv(\"res2.csv\", index=None)"
   ]
  },
  {
   "cell_type": "code",
   "execution_count": 3,
   "id": "21d6c6c0-f43d-4e76-9714-88b9a05756d3",
   "metadata": {},
   "outputs": [],
   "source": [
    "df1 = pd.read_csv(\"./res.csv\")\n",
    "df2 = pd.read_csv(\"./res2.csv\")"
   ]
  },
  {
   "cell_type": "code",
   "execution_count": 4,
   "id": "0c085d4f-70f9-4b38-90e1-210dc0f9bfc6",
   "metadata": {},
   "outputs": [],
   "source": [
    "combined = pd.concat([df1, df2])"
   ]
  },
  {
   "cell_type": "code",
   "execution_count": 6,
   "id": "773a326c-5e04-4170-a7e4-ab06b7501bb2",
   "metadata": {},
   "outputs": [],
   "source": [
    "combined.to_csv(\"fin_res.csv\", index=None)"
   ]
  },
  {
   "cell_type": "code",
   "execution_count": 16,
   "id": "f94fca98-088c-420c-b669-3791f1457144",
   "metadata": {},
   "outputs": [],
   "source": [
    "avg_d = {} \n",
    "avg_d['dataset'] = [] \n",
    "avg_d['avg_gurobi_reach'] = []\n",
    "avg_d['avg_gurobi_nodes'] = []\n",
    "avg_d['avg_gurobi_time'] = []\n",
    "avg_d['avg_cplex_reach'] = []\n",
    "avg_d['avg_cplex_nodes'] = []\n",
    "avg_d['avg_cplex_time'] = []"
   ]
  },
  {
   "cell_type": "code",
   "execution_count": 17,
   "id": "d2947c05-b6ec-4836-8a8d-fa7e0fcce455",
   "metadata": {},
   "outputs": [],
   "source": [
    "for name, dataset in datasets.items():\n",
    "    cnt = 0 \n",
    "    avg_gurobi_reach = 0 \n",
    "    avg_gurobi_nodes = 0\n",
    "    avg_gurobi_time = 0\n",
    "    avg_cplex_reach = 0\n",
    "    avg_cplex_nodes = 0\n",
    "    avg_cplex_time = 0\n",
    "    for idx, row in combined[combined['dataset'] == name].iterrows():\n",
    "        cnt += 1\n",
    "        avg_gurobi_reach += row['gurobi_reach']\n",
    "        avg_gurobi_nodes += row['gurobi_nodes']\n",
    "        avg_gurobi_time += row['gurobi_time']\n",
    "        avg_cplex_reach += row['cplex_reach']\n",
    "        avg_cplex_nodes += row['cplex_nodes']\n",
    "        avg_cplex_time += row['cplex_time']\n",
    "    avg_gurobi_reach /= cnt\n",
    "    avg_gurobi_nodes /= cnt\n",
    "    avg_gurobi_time /= cnt\n",
    "    avg_cplex_reach /= cnt\n",
    "    avg_cplex_nodes /= cnt\n",
    "    avg_cplex_time /= cnt\n",
    "    avg_d['dataset'].append(name)\n",
    "    avg_d['avg_gurobi_reach'].append(avg_gurobi_reach)\n",
    "    avg_d['avg_gurobi_nodes'].append(avg_gurobi_nodes)\n",
    "    avg_d['avg_gurobi_time'] .append(avg_gurobi_time)\n",
    "    avg_d['avg_cplex_reach'].append(avg_cplex_reach)\n",
    "    avg_d['avg_cplex_nodes'].append(avg_cplex_nodes)\n",
    "    avg_d['avg_cplex_time'].append(avg_cplex_time)\n",
    "    \n",
    "         "
   ]
  },
  {
   "cell_type": "code",
   "execution_count": 19,
   "id": "eae6a7a4-ae51-411b-a47b-92769b8ef20b",
   "metadata": {},
   "outputs": [],
   "source": [
    "avg_df = pd.DataFrame(avg_d)"
   ]
  },
  {
   "cell_type": "code",
   "execution_count": 20,
   "id": "b54cb2c9-d725-468b-a904-233d21d8db2c",
   "metadata": {},
   "outputs": [],
   "source": [
    "avg_df.to_csv(\"avg_df.csv\", index=None)"
   ]
  },
  {
   "cell_type": "code",
   "execution_count": null,
   "id": "ad2cd615-6a30-49ef-acb0-af0581ddb68a",
   "metadata": {},
   "outputs": [],
   "source": []
  }
 ],
 "metadata": {
  "kernelspec": {
   "display_name": "Python 3 (ipykernel)",
   "language": "python",
   "name": "python3"
  },
  "language_info": {
   "codemirror_mode": {
    "name": "ipython",
    "version": 3
   },
   "file_extension": ".py",
   "mimetype": "text/x-python",
   "name": "python",
   "nbconvert_exporter": "python",
   "pygments_lexer": "ipython3",
   "version": "3.9.21"
  }
 },
 "nbformat": 4,
 "nbformat_minor": 5
}
