import numpy as np
import matplotlib.pyplot as plt
from scipy.special import factorial

# Initialization
n = 400  # Total number of samples
d_max = 8  # Maximum dimension
s = (factorial(d_max - 1) / factorial(d_max))**(1 / d_max)  # Side length of simplex

# Generate points uniformly in the unit hypercube [0, 1]^d
def generate_hypercube_points(n, d):
    return np.random.uniform(0, 1, size=(n, d))

# Generate points uniformly in the simplex C
def generate_simplex_points(n, d, s):
    points = np.random.uniform(0, 1, size=(n, d))
    points = points / points.sum(axis=1, keepdims=True)
    return points * s

# Generate cluster benchmark dataset
def generate_cluster_benchmark(n, d, s):
    n_negative = 4 * n // 5
    n_positive_simplex = n // 10
    n_positive_remaining = n // 10

    # Generate negative points in the hypercube
    negative_points = generate_hypercube_points(n_negative, d)

    # Generate positive points in the simplex
    positive_simplex_points = generate_simplex_points(n_positive_simplex, d, s)

    # Generate remaining positive points in the hypercube
    positive_remaining_points = generate_hypercube_points(n_positive_remaining, d)

    # Combine points
    X = np.vstack((negative_points, positive_simplex_points, positive_remaining_points))
    y = np.hstack((np.zeros(n_negative), np.ones(n_positive_simplex + n_positive_remaining)))
    return X, y

# Visualization for d=2
d = 2
X, y = generate_cluster_benchmark(n, d, s)

# Plotting
plt.figure(figsize=(8, 8))
plt.scatter(X[y == 0][:, 0], X[y == 0][:, 1], color='blue', label='Negative Samples', alpha=0.5)
plt.scatter(X[y == 1][:, 0], X[y == 1][:, 1], color='red', label='Positive Samples', alpha=0.5)
plt.title("Cluster Benchmark Dataset (d=2)")
plt.xlabel("Feature 1")
plt.ylabel("Feature 2")
plt.legend()
plt.grid()
plt.show()



import numpy as np
import matplotlib.pyplot as plt
from mpl_toolkits.mplot3d import Axes3D
from scipy.special import factorial

# Parameters
n = 400  # Total number of samples
d_max = 8  # Maximum dimension
s = (factorial(d_max - 1) / factorial(d_max))**(1 / d_max)  # Side length of simplex

# Generate points uniformly in the unit hypercube [0, 1]^d
def generate_hypercube_points(n, d):
    return np.random.uniform(0, 1, size=(n, d))

# Generate points uniformly in the simplex C
def generate_simplex_points(n, d, s):
    points = np.random.uniform(0, 1, size=(n, d))
    points = points / points.sum(axis=1, keepdims=True)
    return points * s

# Generate cluster benchmark dataset
def generate_cluster_benchmark(n, d, s):
    n_negative = 4 * n // 5
    n_positive_simplex = n // 10
    n_positive_remaining = n // 10

    # Generate negative points in the hypercube
    negative_points = generate_hypercube_points(n_negative, d)

    # Generate positive points in the simplex
    positive_simplex_points = generate_simplex_points(n_positive_simplex, d, s)

    # Generate remaining positive points in the hypercube
    positive_remaining_points = generate_hypercube_points(n_positive_remaining, d)

    # Combine points
    X = np.vstack((negative_points, positive_simplex_points, positive_remaining_points))
    y = np.hstack((np.zeros(n_negative), np.ones(n_positive_simplex + n_positive_remaining)))
    return X, y


# Visualization for d=3
d = 3
X, y = generate_cluster_benchmark(n, d, s)

# 3D Plotting
fig = plt.figure(figsize=(10, 10))
ax = fig.add_subplot(111, projection='3d')
ax.scatter(X[y == 0][:, 0], X[y == 0][:, 1], X[y == 0][:, 2], color='blue', label='Negative Samples', alpha=0.5)
ax.scatter(X[y == 1][:, 0], X[y == 1][:, 1], X[y == 1][:, 2], color='red', label='Positive Samples', alpha=0.5)
ax.set_title("Cluster Benchmark Dataset (d=3)")
ax.set_xlabel("Feature 1")
ax.set_ylabel("Feature 2")
ax.set_zlabel("Feature 3")
ax.legend()
plt.show()







